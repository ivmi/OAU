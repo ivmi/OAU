{
 "cells": [
  {
   "cell_type": "markdown",
   "metadata": {},
   "source": [
    "## Model tijela na podlozi s trenjem"
   ]
  },
  {
   "cell_type": "code",
   "execution_count": null,
   "metadata": {},
   "outputs": [],
   "source": [
    "# priprema okruženja\n",
    "%matplotlib nbagg\n",
    "import matplotlib.pyplot as plt\n",
    "import numpy as np\n",
    "from scipy import signal\n",
    "from control import tf, step_response, forced_response, impulse_response"
   ]
  },
  {
   "cell_type": "code",
   "execution_count": null,
   "metadata": {},
   "outputs": [],
   "source": [
    "# ovdje definirajte prijenosnu funkciju\n",
    "# npr. ako je G(s) = (5s+1) / (s^2 + 3s + 2)\n",
    "# onda je num = [5, 1], a den = [1, 3, 2]\n",
    "# primjetite da su brojnik i nazivnik poredani po padajucoj potenciji operatora s\n",
    "\n",
    "# !!!!Rezultat ovog bloka mora biti isti kao prijenosna funkcija koju ste dobili u zadatku pod a)   !!!!!\n",
    "\n",
    "num = []\n",
    "den = []\n",
    "\n",
    "\n",
    "G = tf(num, den)\n",
    "\n",
    "G"
   ]
  },
  {
   "cell_type": "code",
   "execution_count": null,
   "metadata": {
    "scrolled": false
   },
   "outputs": [],
   "source": [
    "# odziv na jediničnu impulsnu pobudu\n",
    "t, y = impulse_response(G)\n",
    "plt.figure()\n",
    "plt.plot(t,y)\n",
    "plt.legend(['Odziv'])\n",
    "plt.grid()"
   ]
  },
  {
   "cell_type": "code",
   "execution_count": null,
   "metadata": {},
   "outputs": [],
   "source": []
  }
 ],
 "metadata": {
  "kernelspec": {
   "display_name": "Python 3",
   "language": "python",
   "name": "python3"
  },
  "language_info": {
   "codemirror_mode": {
    "name": "ipython",
    "version": 3
   },
   "file_extension": ".py",
   "mimetype": "text/x-python",
   "name": "python",
   "nbconvert_exporter": "python",
   "pygments_lexer": "ipython3",
   "version": "3.7.1"
  }
 },
 "nbformat": 4,
 "nbformat_minor": 2
}
