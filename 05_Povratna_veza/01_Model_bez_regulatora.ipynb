{
 "cells": [
  {
   "cell_type": "markdown",
   "metadata": {},
   "source": [
    "## Simulacija odziva procesa bez regulatora"
   ]
  },
  {
   "cell_type": "markdown",
   "metadata": {},
   "source": [
    "![Blok shema motora](../images/motor_model.png)"
   ]
  },
  {
   "cell_type": "code",
   "execution_count": 8,
   "metadata": {},
   "outputs": [],
   "source": [
    "%matplotlib widget\n",
    "import sys, os\n",
    "sys.path.append(os.path.dirname(os.getcwd()))\n",
    "import matplotlib.pyplot as plt\n",
    "import lib.simulator as sim"
   ]
  },
  {
   "cell_type": "code",
   "execution_count": 9,
   "metadata": {},
   "outputs": [],
   "source": [
    "# model procesa\n",
    "def motor(L_a, R_a, Kb, J, k_f, x0):\n",
    "    def deriv(t, x, u):\n",
    "        i_a = x[0]\n",
    "        w = x[1]\n",
    "        u_b = w*Kb\n",
    "        di_a = 1/L_a*(u(0)-i_a*R_a-u_b)\n",
    "        M_m = Kb*i_a\n",
    "        dw = 1/J*(M_m+u(1)-k_f*w)\n",
    "        return [di_a, dw]\n",
    "\n",
    "    def out(t, x, u):\n",
    "        return x[1]\n",
    "    \n",
    "    return (deriv, out, x0) "
   ]
  },
  {
   "cell_type": "code",
   "execution_count": 10,
   "metadata": {},
   "outputs": [],
   "source": [
    "# model cjelokupnog sustava\n",
    "\n",
    "blocks = [\n",
    "    sim.step(y0=0, y1=1, t_step=1),  #0                  ulazni signal - napon motora\n",
    "    sim.step(y0=0, y1=-0.5, t_step=15), #1                  ulazni signal - vanjski moment\n",
    "    motor(L_a=0.3, R_a=3, Kb=1, J=0.5, k_f=0.1, x0=[0.0, 0.0]),   # parametri motora\n",
    "    ]\n",
    "\n",
    "connections = [\n",
    "    ((0, 0), (2, 0)),\n",
    "    ((1, 0), (2, 1)),\n",
    "]\n",
    "\n",
    "outputs = [0, 1, 2]\n",
    "\n",
    "t, y = sim.simulate(blocks, connections, outputs, t_final=30.0)"
   ]
  },
  {
   "cell_type": "code",
   "execution_count": 11,
   "metadata": {
    "scrolled": false
   },
   "outputs": [
    {
     "data": {
      "application/vnd.jupyter.widget-view+json": {
       "model_id": "c72703a3f466468195ac2d1947eb5ebf",
       "version_major": 2,
       "version_minor": 0
      },
      "text/plain": [
       "Canvas(toolbar=Toolbar(toolitems=[('Home', 'Reset original view', 'home', 'home'), ('Back', 'Back to previous …"
      ]
     },
     "metadata": {},
     "output_type": "display_data"
    }
   ],
   "source": [
    "# vremenski odziv\n",
    "fig = plt.figure()\n",
    "fig.set_label('Odziv procesa')\n",
    "ax1=plt.subplot(2, 1, 1)\n",
    "plt.plot(t, y[:,2])\n",
    "plt.grid()\n",
    "plt.legend(['Brzina vrtnje'])\n",
    "ax2=plt.subplot(2, 1, 2)\n",
    "plt.plot(t, y[:,0], t, y[:,1])\n",
    "plt.grid()\n",
    "plt.legend(['Ulaz (napon)', 'Vanjski moment'])\n",
    "plt.show()"
   ]
  },
  {
   "cell_type": "code",
   "execution_count": null,
   "metadata": {},
   "outputs": [],
   "source": []
  },
  {
   "cell_type": "code",
   "execution_count": null,
   "metadata": {},
   "outputs": [],
   "source": []
  }
 ],
 "metadata": {
  "kernelspec": {
   "display_name": "Python 3",
   "language": "python",
   "name": "python3"
  },
  "language_info": {
   "codemirror_mode": {
    "name": "ipython",
    "version": 3
   },
   "file_extension": ".py",
   "mimetype": "text/x-python",
   "name": "python",
   "nbconvert_exporter": "python",
   "pygments_lexer": "ipython3",
   "version": "3.7.0"
  }
 },
 "nbformat": 4,
 "nbformat_minor": 2
}
