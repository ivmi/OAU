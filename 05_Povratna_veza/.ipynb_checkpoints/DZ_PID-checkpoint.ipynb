{
 "cells": [
  {
   "cell_type": "code",
   "execution_count": null,
   "metadata": {},
   "outputs": [],
   "source": [
    "# priprema okruženja\n",
    "import random"
   ]
  },
  {
   "cell_type": "code",
   "execution_count": null,
   "metadata": {},
   "outputs": [],
   "source": [
    "# unesite svoj JMBAG\n",
    "\n",
    "JMBAG = 1234"
   ]
  },
  {
   "cell_type": "code",
   "execution_count": null,
   "metadata": {},
   "outputs": [],
   "source": [
    "# 1. parametri motora za zadatak 1\n",
    "\n",
    "random.seed(JMBAG)\n",
    "K = random.uniform(50, 230)\n",
    "La = 10\n",
    "Ra = 50\n",
    "Kb = 9\n",
    "J = random.uniform(0.2, 1)\n",
    "k_f = random.uniform(0.1, 0.3)\n",
    "\n",
    "   # parametri motora\n",
    "\n",
    "print(\"Koristite sljedeću liniju u notebook-u 05_PID_Signali, i priložite je u domaćoj zadaći\")\n",
    "print(\"motor(K={:.1f}, L_a={:.1f}, R_a={:.1f}, Kb={:.1f}, J={:.1f}, k_f={:.1f}, x0=[0.0, 0.0]),\".format(K, La, Ra, Kb, J, k_f))"
   ]
  },
  {
   "cell_type": "code",
   "execution_count": null,
   "metadata": {},
   "outputs": [],
   "source": [
    "#2. Parametri procesa za zadatak 2\n",
    "\n",
    "# Parametri modela\n",
    "\n",
    "random.seed(JMBAG)\n",
    "Kp = random.uniform(0.5, 3)\n",
    "\n",
    "print(\"Koristite sljedeću liniju u notebook-u 01_Parametriranje_ZN (cell 2) i priložite je u domaćoj zadaći\")\n",
    "print(\"return control.tf([{:.1f}], [1, 3, 3, 1])\".format(Kp))"
   ]
  }
 ],
 "metadata": {
  "hide_input": false,
  "kernelspec": {
   "display_name": "Python 3",
   "language": "python",
   "name": "python3"
  },
  "language_info": {
   "codemirror_mode": {
    "name": "ipython",
    "version": 3
   },
   "file_extension": ".py",
   "mimetype": "text/x-python",
   "name": "python",
   "nbconvert_exporter": "python",
   "pygments_lexer": "ipython3",
   "version": "3.7.1"
  },
  "widgets": {
   "state": {
    "13d6b986c45a4f3cb0dcb84b8b6fbebf": {
     "views": []
    },
    "1be10069ddb84d1b8da754540472e174": {
     "views": []
    },
    "250e84ca75aa47568ada001af3e4c709": {
     "views": []
    },
    "28e4fd8cf0384cdaa0c5efd879bfb81a": {
     "views": []
    },
    "65416324e37e40e58d47cd7f64cda39f": {
     "views": []
    },
    "79ccf909bdc34911b8d3e8b8bd853711": {
     "views": []
    },
    "9672110df3154f2d95cf51d59baa53be": {
     "views": []
    },
    "b52fd9625ff846c999905f77e4ec1d6b": {
     "views": []
    },
    "c7ee4946f4d54e2488c6138e87d65b28": {
     "views": []
    },
    "cbd8447293104df49b210d8258ffbdcb": {
     "views": []
    },
    "cde4b5c148504238bbc014df7c2e03d6": {
     "views": []
    },
    "da411d9810794751a9793aff8d2d76eb": {
     "views": [
      {
       "cell_index": 12
      }
     ]
    },
    "e517639da03c4fccbcee797d23240824": {
     "views": []
    },
    "e9977b305c1243eda025ec6c3c600569": {
     "views": []
    },
    "f1bf6378fff54cfb850f468137f40558": {
     "views": []
    },
    "fd5750255384479faefceeb54509dc91": {
     "views": []
    }
   },
   "version": "1.1.1"
  }
 },
 "nbformat": 4,
 "nbformat_minor": 1
}
