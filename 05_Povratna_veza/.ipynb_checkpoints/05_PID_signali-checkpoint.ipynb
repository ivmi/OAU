{
 "cells": [
  {
   "cell_type": "code",
   "execution_count": 6,
   "metadata": {},
   "outputs": [],
   "source": [
    "%matplotlib widget\n",
    "import sys, os\n",
    "sys.path.append(os.path.dirname(os.getcwd()))\n",
    "import matplotlib.pyplot as plt\n",
    "import lib.simulator as sim"
   ]
  },
  {
   "cell_type": "code",
   "execution_count": 7,
   "metadata": {},
   "outputs": [],
   "source": [
    "# model procesa - motor\n",
    "def motor(K, L_a, R_a, Kb, J, k_f, x0):\n",
    "    def deriv(t, x, u):\n",
    "        i_a = x[0]\n",
    "        w = x[1]\n",
    "        u_b = w*Kb\n",
    "        di_a = 1/L_a*(u(0)*K-i_a*R_a-u_b)\n",
    "        M_m = Kb*i_a\n",
    "        dw = 1/J*(M_m+u(1)-k_f*w)\n",
    "        return [di_a, dw]\n",
    "\n",
    "    def out(t, x, u):\n",
    "        return x[1]\n",
    "    \n",
    "    return (deriv, out, x0) "
   ]
  },
  {
   "cell_type": "code",
   "execution_count": 8,
   "metadata": {},
   "outputs": [],
   "source": [
    "def P(K):\n",
    "    return sim.gain(K)\n",
    "\n",
    "def I(Ti):\n",
    "    return sim.tf([1],[Ti, 0])\n",
    "\n",
    "def D(Td, N=10):\n",
    "    return sim.tf([Td, 0],[Td/N, 1])\n"
   ]
  },
  {
   "cell_type": "code",
   "execution_count": 36,
   "metadata": {},
   "outputs": [],
   "source": [
    "# model cjelokupnog sustava\n",
    "\n",
    "blocks = [\n",
    "    sim.step(y0=0, y1=1, t_step=1),  #0                  ulazni signal - napon motora\n",
    "    sim.step(y0=0, y1=1, t_step=6),  #0                  ulazni signal - vanjski moment\n",
    "    sim.suma('+-'),\n",
    "    P(K=0.3),\n",
    "    I(Ti=15),\n",
    "    D(Td=0.1, N=10),\n",
    "    sim.suma('+++'),\n",
    "    motor(K=230, L_a=10, R_a=50, Kb=9, J=0.4, k_f=0.1, x0=[0.0, 0.0]),   # parametri motora\n",
    "    #sim.tf([1],[1, 3, 3, 1])\n",
    "    ]\n",
    "\n",
    "connections = [\n",
    "    ((0, 0), (2, 0)),\n",
    "    ((2, 0), (3, 0)),\n",
    "    ((3, 0), (6, 0)),\n",
    "    ((3, 0), (4, 0)),\n",
    "    ((3, 0), (5, 0)),\n",
    "    ((4, 0), (6, 1)),\n",
    "    ((5, 0), (6, 2)),\n",
    "    ((6, 0), (7, 0)),\n",
    "    ((1, 0), (7, 1)),\n",
    "    ((7, 0), (2, 1)),\n",
    "]\n",
    "\n",
    "outputs = [0, 1, 2, 3, 4, 5, 6, 7]\n",
    "\n",
    "t, y = sim.simulate(blocks, connections, outputs, t_final=10.0)"
   ]
  },
  {
   "cell_type": "code",
   "execution_count": 37,
   "metadata": {},
   "outputs": [
    {
     "data": {
      "application/vnd.jupyter.widget-view+json": {
       "model_id": "e57c5af25eec44afa9879fba2d9e78ed",
       "version_major": 2,
       "version_minor": 0
      },
      "text/plain": [
       "Canvas(toolbar=Toolbar(toolitems=[('Home', 'Reset original view', 'home', 'home'), ('Back', 'Back to previous …"
      ]
     },
     "metadata": {},
     "output_type": "display_data"
    }
   ],
   "source": [
    "# vremenski odziv\n",
    "fig = plt.figure()\n",
    "fig.set_label('Odziv procesa')\n",
    "ax1=plt.subplot(2, 1, 1)\n",
    "plt.plot(t, y[:,0], t, y[:,7], t, y[:,2])\n",
    "plt.grid()\n",
    "plt.legend(['Zadana vrijednost', 'Mjerena vrijednost', 'Reg. odstupanje'])\n",
    "ax2=plt.subplot(2, 1, 2)\n",
    "plt.plot(t, y[:,6], t, y[:,3], t, y[:,4], t, y[:,5])\n",
    "plt.grid()\n",
    "plt.legend(['Izlaz regulatora', 'P', 'I', 'D'])\n",
    "plt.show()"
   ]
  },
  {
   "cell_type": "code",
   "execution_count": null,
   "metadata": {},
   "outputs": [],
   "source": []
  }
 ],
 "metadata": {
  "kernelspec": {
   "display_name": "Python 3",
   "language": "python",
   "name": "python3"
  },
  "language_info": {
   "codemirror_mode": {
    "name": "ipython",
    "version": 3
   },
   "file_extension": ".py",
   "mimetype": "text/x-python",
   "name": "python",
   "nbconvert_exporter": "python",
   "pygments_lexer": "ipython3",
   "version": "3.7.1"
  }
 },
 "nbformat": 4,
 "nbformat_minor": 2
}
