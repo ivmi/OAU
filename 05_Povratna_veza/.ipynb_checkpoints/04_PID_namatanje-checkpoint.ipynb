{
 "cells": [
  {
   "cell_type": "markdown",
   "metadata": {},
   "source": [
    "## Simulacija odziva procesa s PID regulatorom"
   ]
  },
  {
   "cell_type": "markdown",
   "metadata": {},
   "source": [
    "### Simulacijska blok shema\n",
    "\n",
    "![Blok shema PID + motor](../images/Motor_PID_blok_shema.png)"
   ]
  },
  {
   "cell_type": "code",
   "execution_count": 5,
   "metadata": {},
   "outputs": [],
   "source": [
    "%matplotlib widget\n",
    "import sys, os\n",
    "sys.path.append(os.path.dirname(os.getcwd()))\n",
    "import matplotlib.pyplot as plt\n",
    "import lib.simulator as sim"
   ]
  },
  {
   "cell_type": "code",
   "execution_count": 6,
   "metadata": {},
   "outputs": [],
   "source": [
    "# model procesa - motor (bez vanjskog momenta)\n",
    "def motor(L_a, R_a, Kb, J, k_f, x0):\n",
    "    def deriv(t, x, u):\n",
    "        i_a = x[0]\n",
    "        w = x[1]\n",
    "        u_b = w*Kb\n",
    "        di_a = 1/L_a*(u(0)-i_a*R_a-u_b)\n",
    "        M_m = Kb*i_a\n",
    "        dw = 1/J*(M_m-k_f*w)\n",
    "        return [di_a, dw]\n",
    "\n",
    "    def out(t, x, u):\n",
    "        return x[1]\n",
    "    \n",
    "    return (deriv, out, x0) "
   ]
  },
  {
   "cell_type": "code",
   "execution_count": 7,
   "metadata": {},
   "outputs": [],
   "source": [
    "# model regulatora\n",
    "\n",
    "# PI regulator  u = e*Kp*(1+1/(Ti*s))=e*(Kp*Ti*s + Kp)/(Ti*s)\n",
    "def reg_PI(K, Ti):\n",
    "    return sim.tf([K*Ti, K], [Ti, 0])   \n"
   ]
  },
  {
   "cell_type": "code",
   "execution_count": 14,
   "metadata": {},
   "outputs": [],
   "source": [
    "# model cjelokupnog sustava\n",
    "\n",
    "blocks = [\n",
    "#    sim.step(y0=0, y1=1, t_step=1),  #0                  ulazni signal - napon motora\n",
    "    sim.stairs([0,1,5,20], [0, 1, 0, 0]),\n",
    "    sim.suma('+-'),\n",
    "    reg_PI(K=7, Ti=1),                   \n",
    "    sim.saturate(-1, 1),\n",
    "#    motor(L_a=0.3, R_a=3, Kb=1, J=0.5, k_f=0.1, x0=[0.0, 0.0]),   # parametri motora\n",
    "    sim.tf([0.5], [1, 1]) # Gp(s) = 0.5/(1+1s)\n",
    "    ]\n",
    "\n",
    "connections = [\n",
    "    ((0, 0), (1, 0)),\n",
    "    ((1, 0), (2, 0)),\n",
    "    ((2, 0), (3, 0)),\n",
    "    ((3, 0), (4, 0)),\n",
    "    ((4, 0), (1, 1)),\n",
    "]\n",
    "\n",
    "outputs = [0, 1, 2, 3, 4]\n",
    "\n",
    "t, y = sim.simulate(blocks, connections, outputs, t_final=15.0)"
   ]
  },
  {
   "cell_type": "code",
   "execution_count": 15,
   "metadata": {},
   "outputs": [
    {
     "data": {
      "application/vnd.jupyter.widget-view+json": {
       "model_id": "d58d3fb4b1ab4586a6d96a3bc9aa1748",
       "version_major": 2,
       "version_minor": 0
      },
      "text/plain": [
       "Canvas(toolbar=Toolbar(toolitems=[('Home', 'Reset original view', 'home', 'home'), ('Back', 'Back to previous …"
      ]
     },
     "metadata": {},
     "output_type": "display_data"
    }
   ],
   "source": [
    "# vremenski odziv\n",
    "fig = plt.figure()\n",
    "fig.set_label('Odziv procesa')\n",
    "ax1=plt.subplot(2, 1, 1)\n",
    "plt.plot(t, y[:,0], t, y[:,4])\n",
    "plt.grid()\n",
    "plt.legend(['Zadana vrijednost', 'Brzina vrtnje'])\n",
    "ax2=plt.subplot(2, 1, 2)\n",
    "plt.plot(t, y[:,2], t, y[:,3])\n",
    "plt.grid()\n",
    "plt.legend(['Izlaz regulatora', 'Limitirani napon'])\n",
    "plt.show()"
   ]
  },
  {
   "cell_type": "markdown",
   "metadata": {},
   "source": [
    "## Sustav s anti-windup mehanizmom"
   ]
  },
  {
   "cell_type": "code",
   "execution_count": 16,
   "metadata": {},
   "outputs": [],
   "source": [
    "# model anti windup sustava\n",
    "\n",
    "blocks = [\n",
    "#    sim.step(y0=0, y1=1, t_step=1),\n",
    "    sim.stairs([0,1,5,20], [0, 1, 0, 0]),\n",
    "    sim.suma('+-'),\n",
    "    sim.gain(7), # K\n",
    "    sim.gain(1), # Ti\n",
    "    sim.suma('+-'),\n",
    "    sim.integrator(1),\n",
    "    sim.suma('++'),\n",
    "    sim.saturate(-1, 1),\n",
    "    #motor(L_a=0.3, R_a=3, Kb=1, J=0.5, k_f=0.1, x0=[0.0, 0.0]),   # parametri motora\n",
    "    sim.tf([0.5], [1,1]),    \n",
    "    sim.suma('+-'),\n",
    "    sim.gain(0.5),\n",
    "    ]\n",
    "\n",
    "connections = [\n",
    "    ((0, 0), (1, 0)),\n",
    "    ((1, 0), (2, 0)),\n",
    "    ((2, 0), (6, 0)),\n",
    "    ((2, 0), (3, 0)),\n",
    "    ((3, 0), (4, 0)),\n",
    "    ((4, 0), (5, 0)),\n",
    "    ((5, 0), (6, 1)),\n",
    "    ((6, 0), (7, 0)),\n",
    "    ((6, 0), (9, 0)),\n",
    "    ((7, 0), (8, 0)),\n",
    "    ((8, 0), (1, 1)),    \n",
    "    ((7, 0), (9, 1)),    \n",
    "    ((9, 0), (10, 0)),\n",
    "    ((10, 0), (4, 1)),    \n",
    "]\n",
    "\n",
    "outputs = [0, 6, 7, 8]\n",
    "\n",
    "t, y = sim.simulate(blocks, connections, outputs, t_final=15.0)"
   ]
  },
  {
   "cell_type": "code",
   "execution_count": 17,
   "metadata": {},
   "outputs": [
    {
     "data": {
      "application/vnd.jupyter.widget-view+json": {
       "model_id": "ed962ce0cf774a8f9471c4f990e68f51",
       "version_major": 2,
       "version_minor": 0
      },
      "text/plain": [
       "Canvas(toolbar=Toolbar(toolitems=[('Home', 'Reset original view', 'home', 'home'), ('Back', 'Back to previous …"
      ]
     },
     "metadata": {},
     "output_type": "display_data"
    }
   ],
   "source": [
    "# vremenski odziv\n",
    "fig = plt.figure()\n",
    "fig.set_label('Odziv procesa')\n",
    "ax1=plt.subplot(2, 1, 1)\n",
    "plt.plot(t, y[:,0], t, y[:,3])\n",
    "plt.grid()\n",
    "plt.legend(['Zadana vrijednost', 'Brzina vrtnje'])\n",
    "ax2=plt.subplot(2, 1, 2)\n",
    "plt.plot(t, y[:,1], t, y[:,2])\n",
    "plt.grid()\n",
    "plt.legend(['Izlaz regulatora', 'Limitirani napon'])\n",
    "plt.show()"
   ]
  },
  {
   "cell_type": "code",
   "execution_count": null,
   "metadata": {},
   "outputs": [],
   "source": []
  }
 ],
 "metadata": {
  "kernelspec": {
   "display_name": "Python 3",
   "language": "python",
   "name": "python3"
  },
  "language_info": {
   "codemirror_mode": {
    "name": "ipython",
    "version": 3
   },
   "file_extension": ".py",
   "mimetype": "text/x-python",
   "name": "python",
   "nbconvert_exporter": "python",
   "pygments_lexer": "ipython3",
   "version": "3.7.1"
  }
 },
 "nbformat": 4,
 "nbformat_minor": 2
}
