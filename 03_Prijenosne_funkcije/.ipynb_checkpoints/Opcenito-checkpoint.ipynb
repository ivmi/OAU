{
 "cells": [
  {
   "cell_type": "code",
   "execution_count": null,
   "metadata": {},
   "outputs": [],
   "source": [
    "# priprema okruženja\n",
    "%matplotlib nbagg\n",
    "import matplotlib.pyplot as plt\n",
    "import numpy as np\n",
    "from scipy import signal\n",
    "from control import tf, step_response, forced_response, initial_response, impulse_response, bode_plot\n",
    "import ipywidgets as ipw"
   ]
  },
  {
   "cell_type": "code",
   "execution_count": null,
   "metadata": {},
   "outputs": [],
   "source": [
    "# definicija prijenosne funkcije\n",
    "\n",
    "\n",
    "#G = tf([1], [2, 1]) # G = K / (Ts + 1)\n",
    "#G = tf([1], [1, 0]) # G = 1 / s\n",
    "G = tf([1], [1, 0.6, 1]) # G = b / (a2*s^2 + a1*s + 1)\n",
    "\n",
    "G"
   ]
  },
  {
   "cell_type": "code",
   "execution_count": null,
   "metadata": {},
   "outputs": [],
   "source": [
    "# odziv na skokovitu pobudu\n",
    "\n",
    "t, y = step_response(G)\n",
    "\n",
    "plt.figure()\n",
    "plt.title('Odziv na skokovitu pobudu')\n",
    "plt.plot(t,y)\n",
    "plt.grid()"
   ]
  },
  {
   "cell_type": "code",
   "execution_count": null,
   "metadata": {},
   "outputs": [],
   "source": [
    "# odziv na impulsnu pobudu\n",
    "\n",
    "t, y = impulse_response(G)\n",
    "\n",
    "plt.figure()\n",
    "plt.title('Odziv na impulsnu pobudu')\n",
    "plt.plot(t,y)\n",
    "plt.grid()"
   ]
  },
  {
   "cell_type": "code",
   "execution_count": null,
   "metadata": {},
   "outputs": [],
   "source": [
    "# bode dijagram\n",
    "\n",
    "plt.figure()\n",
    "w, mag, phase = bode_plot(G)\n"
   ]
  },
  {
   "cell_type": "code",
   "execution_count": null,
   "metadata": {},
   "outputs": [],
   "source": [
    "# odziv na sinusnu pobudu\n",
    "\n",
    "t_u = np.linspace(0, 30, 200)\n",
    "u = np.sin(1*t_u)\n",
    "\n",
    "t_y, y, x = forced_response(G, t_u, u)\n",
    "\n",
    "plt.figure()\n",
    "plt.title('Odziv na sinusnu pobudu')\n",
    "plt.plot(t_u, u, t_y, y)\n",
    "plt.legend(['ulaz', 'izlaz'])\n",
    "\n",
    "plt.grid()"
   ]
  },
  {
   "cell_type": "code",
   "execution_count": null,
   "metadata": {},
   "outputs": [],
   "source": []
  }
 ],
 "metadata": {
  "kernelspec": {
   "display_name": "Python 3",
   "language": "python",
   "name": "python3"
  },
  "language_info": {
   "codemirror_mode": {
    "name": "ipython",
    "version": 3
   },
   "file_extension": ".py",
   "mimetype": "text/x-python",
   "name": "python",
   "nbconvert_exporter": "python",
   "pygments_lexer": "ipython3",
   "version": "3.7.1"
  }
 },
 "nbformat": 4,
 "nbformat_minor": 2
}
