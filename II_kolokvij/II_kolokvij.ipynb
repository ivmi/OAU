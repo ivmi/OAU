{
 "cells": [
  {
   "cell_type": "markdown",
   "metadata": {},
   "source": [
    "# Zadaci za vježbu za II kolokvij\n",
    "\n",
    "Pokrenite sva polja (Cell-> Run all) da biste dobili zadatke. Zadaci i rješenja ispisani su kao rezultat izvođenja, nije potrebno čitati programsko polje.\n",
    "\n",
    "Za izmjenu brojeva u zadacima, promijenite varijablu seed. Odgovori će biti točni za nove varijable.\n",
    "\n",
    "Zadaci ne obuhvaćaju sva teorijska pitanja."
   ]
  },
  {
   "cell_type": "code",
   "execution_count": 36,
   "metadata": {
    "hide_input": false
   },
   "outputs": [],
   "source": [
    "%matplotlib inline\n",
    "import random\n",
    "from scipy.signal import lti, step\n",
    "import control\n",
    "import numpy as np\n",
    "import matplotlib.pyplot as plt\n",
    "from IPython.display import display, Markdown"
   ]
  },
  {
   "cell_type": "code",
   "execution_count": 37,
   "metadata": {},
   "outputs": [],
   "source": [
    "# promijenite broj i pokrenite sve ponovo za druge brojeve u zadacima\n",
    "seed = 12345"
   ]
  },
  {
   "cell_type": "markdown",
   "metadata": {},
   "source": [
    "### Direktno upravljanje"
   ]
  },
  {
   "cell_type": "code",
   "execution_count": 38,
   "metadata": {},
   "outputs": [
    {
     "name": "stdout",
     "output_type": "stream",
     "text": [
      "Kod direktnog sustava upravljanja, dodavanje korektora vodeće veličine ima za rezultat ...\n",
      "Kod direktnog sustava upravljanja, dodavanje kompenzatora smetnje ima za rezultat ...\n"
     ]
    }
   ],
   "source": [
    "print('Kod direktnog sustava upravljanja, dodavanje korektora vodeće veličine ima za rezultat ...')\n",
    "\n",
    "print('Kod direktnog sustava upravljanja, dodavanje kompenzatora smetnje ima za rezultat ...')"
   ]
  },
  {
   "cell_type": "code",
   "execution_count": 39,
   "metadata": {},
   "outputs": [
    {
     "name": "stdout",
     "output_type": "stream",
     "text": [
      "Odrediti prijenosnu funkciju korektora vodeće veličine za prijenosnu funkciju procesa\n"
     ]
    },
    {
     "data": {
      "text/markdown": [
       "$G=\\frac{1}{1+3s}$"
      ],
      "text/plain": [
       "<IPython.core.display.Markdown object>"
      ]
     },
     "metadata": {},
     "output_type": "display_data"
    },
    {
     "name": "stdout",
     "output_type": "stream",
     "text": [
      "Željena dinamika procesa iznosi\n"
     ]
    },
    {
     "data": {
      "text/markdown": [
       "$G_2=\\frac{1}{1+0.5s}$"
      ],
      "text/plain": [
       "<IPython.core.display.Markdown object>"
      ]
     },
     "metadata": {},
     "output_type": "display_data"
    }
   ],
   "source": [
    "print('Odrediti prijenosnu funkciju korektora vodeće veličine za prijenosnu funkciju procesa')\n",
    "display(Markdown(r'$G=\\frac{1}{1+3s}$'))\n",
    "print('Željena dinamika procesa iznosi')\n",
    "display(Markdown(r'$G_2=\\frac{1}{1+0.5s}$'))"
   ]
  },
  {
   "cell_type": "code",
   "execution_count": 40,
   "metadata": {},
   "outputs": [
    {
     "name": "stdout",
     "output_type": "stream",
     "text": [
      "Odrediti prijenosnu funkciju kompenzatora smetnje za proces definiran kao\n"
     ]
    },
    {
     "data": {
      "text/markdown": [
       "$y(s)=\\frac{1}{1+3s}u(s) + \\frac{1}{1+4s}d(s)$"
      ],
      "text/plain": [
       "<IPython.core.display.Markdown object>"
      ]
     },
     "metadata": {},
     "output_type": "display_data"
    },
    {
     "name": "stdout",
     "output_type": "stream",
     "text": [
      "gdje je u(s) upravljani ulaz u proces, a d(s) ulaz smetnje.\n"
     ]
    }
   ],
   "source": [
    "print('Odrediti prijenosnu funkciju kompenzatora smetnje za proces definiran kao')\n",
    "display(Markdown(r'$y(s)=\\frac{1}{1+3s}u(s) + \\frac{1}{1+4s}d(s)$'))\n",
    "print('gdje je u(s) upravljani ulaz u proces, a d(s) ulaz smetnje.')"
   ]
  },
  {
   "cell_type": "markdown",
   "metadata": {},
   "source": [
    "### Povratna veza"
   ]
  },
  {
   "cell_type": "code",
   "execution_count": 41,
   "metadata": {},
   "outputs": [
    {
     "name": "stdout",
     "output_type": "stream",
     "text": [
      "Označiti na blok dijagramu povratne veze što je: regulator, aktuator, proces, senzor.\n"
     ]
    }
   ],
   "source": [
    "print('Označiti na blok dijagramu povratne veze što je: regulator, aktuator, proces, senzor.')"
   ]
  },
  {
   "cell_type": "markdown",
   "metadata": {},
   "source": [
    "### PID regulator"
   ]
  },
  {
   "cell_type": "code",
   "execution_count": 42,
   "metadata": {},
   "outputs": [
    {
     "name": "stdout",
     "output_type": "stream",
     "text": [
      "Označiti na blok PID regulatora što je pojedina komponenta.\n"
     ]
    }
   ],
   "source": [
    "print('Označiti na blok PID regulatora što je pojedina komponenta.')"
   ]
  },
  {
   "cell_type": "code",
   "execution_count": 43,
   "metadata": {},
   "outputs": [
    {
     "name": "stdout",
     "output_type": "stream",
     "text": [
      "Funkcija izlaza PID regulatora definira se kao...\n"
     ]
    },
    {
     "data": {
      "text/markdown": [
       "$u(t)=K_P\\left ( e(t)+\\frac{1}{T_I}\\int_{0}^{t}e(\\tau)d\\tau+T_D\\frac{\\mathrm{d}e }{\\mathrm{d} t} \\right )$"
      ],
      "text/plain": [
       "<IPython.core.display.Markdown object>"
      ]
     },
     "metadata": {},
     "output_type": "display_data"
    }
   ],
   "source": [
    "print('Funkcija izlaza PID regulatora definira se kao...')\n",
    "\n",
    "display(Markdown(r'$u(t)=K_P\\left ( e(t)+\\frac{1}{T_I}\\int_{0}^{t}e(\\tau)d\\tau+T_D\\frac{\\mathrm{d}e }{\\mathrm{d} t} \\right )$'))\n"
   ]
  },
  {
   "cell_type": "code",
   "execution_count": 44,
   "metadata": {},
   "outputs": [
    {
     "name": "stdout",
     "output_type": "stream",
     "text": [
      "Prijenosna funkcija PID regulatora ima oblik...\n"
     ]
    }
   ],
   "source": [
    "print('Prijenosna funkcija PID regulatora ima oblik...')"
   ]
  },
  {
   "cell_type": "code",
   "execution_count": 45,
   "metadata": {},
   "outputs": [
    {
     "name": "stdout",
     "output_type": "stream",
     "text": [
      "Koja je komponenta PID regulatora najosjetljivija na šum u povratnoj vezi?\n",
      "\n",
      "R:\n",
      "D komponenta\n"
     ]
    }
   ],
   "source": [
    "print('Koja je komponenta PID regulatora najosjetljivija na šum u povratnoj vezi?\\n')\n",
    "print('R:\\nD komponenta')"
   ]
  },
  {
   "cell_type": "code",
   "execution_count": 46,
   "metadata": {},
   "outputs": [
    {
     "name": "stdout",
     "output_type": "stream",
     "text": [
      "Odrediti izlaz PID regulatora u t=3s, za parametre Kr=3, TI=5, KD=0, za ulaz u regulator u(s) = 1/s.\n",
      "\n",
      "R:\n",
      "y(t=3s)=3.9\n"
     ]
    }
   ],
   "source": [
    "random.seed(seed+21)\n",
    "\n",
    "Kr = random.choice([1, 2, 3, 4, 5])\n",
    "Ti = random.choice([1, 2, 3, 4, 5])\n",
    "t = random.choice([1, 2, 3, 4, 5])\n",
    "u = random.choice([1, 2, 3, 4, 5])\n",
    "\n",
    "yf = u*Kr + u*Kr/Ti*t/2\n",
    "\n",
    "print('Odrediti izlaz PID regulatora u t={}s, za parametre Kr={}, TI={}, KD=0, za ulaz u regulator u(s) = {}/s.'.format(t, Kr, Ti, u))\n",
    "print('\\nR:')\n",
    "print('y(t={}s)={}'.format(t, yf))"
   ]
  },
  {
   "cell_type": "markdown",
   "metadata": {},
   "source": [
    "### Parametriranje regulatora"
   ]
  },
  {
   "cell_type": "code",
   "execution_count": 47,
   "metadata": {},
   "outputs": [
    {
     "name": "stdout",
     "output_type": "stream",
     "text": [
      "Prema Ziegler Nichols metodi odredite parametre PI/PID regulatora, ako je P regulatorom pojačanja Kr = {} postignut odziv prema slici:\n"
     ]
    },
    {
     "data": {
      "image/png": "[encoded data removed]",
      "text/plain": [
       "<Figure size 432x288 with 1 Axes>"
      ]
     },
     "metadata": {
      "needs_background": "light"
     },
     "output_type": "display_data"
    },
    {
     "name": "stdout",
     "output_type": "stream",
     "text": [
      "Rješenje:\n",
      "PI:\n"
     ]
    },
    {
     "data": {
      "text/markdown": [
       "$K_p=2.11, T_I=13.02s$"
      ],
      "text/plain": [
       "<IPython.core.display.Markdown object>"
      ]
     },
     "metadata": {},
     "output_type": "display_data"
    },
    {
     "name": "stdout",
     "output_type": "stream",
     "text": [
      "PID:\n"
     ]
    },
    {
     "data": {
      "text/markdown": [
       "$K_p=2.81, T_I=7.66s, T_D=1.84s$"
      ],
      "text/plain": [
       "<IPython.core.display.Markdown object>"
      ]
     },
     "metadata": {},
     "output_type": "display_data"
    }
   ],
   "source": [
    "# postavljanje parametara PID - Ziegler Nichols\n",
    "random.seed(seed+1)\n",
    "Kpkr = random.uniform(0.1, 10)\n",
    "Tkr = random.uniform(2, 20)\n",
    "\n",
    "PID_K = 0.6*Kpkr\n",
    "PID_TI = 0.5*Tkr\n",
    "PID_TD = 0.12*Tkr\n",
    "\n",
    "PI_K = 0.45*Kpkr\n",
    "PI_TI = 0.85*Tkr\n",
    "\n",
    "t = np.linspace(0, Tkr*2, 200)\n",
    "y = random.random()*np.sin(2*np.pi/Tkr*t+random.random())+random.random()*2\n",
    "\n",
    "plt.figure()\n",
    "plt.plot(t, y)\n",
    "plt.grid()\n",
    "\n",
    "print('Prema Ziegler Nichols metodi odredite parametre PI/PID regulatora, ako je P regulatorom pojačanja Kr = {} postignut odziv prema slici:')\n",
    "plt.show()\n",
    "print('Rješenje:')\n",
    "print('PI:')\n",
    "display(Markdown(r'$K_p={:.2f}, T_I={:.2f}s$'.format(PI_K, PI_TI)))\n",
    "print('PID:')\n",
    "display(Markdown(r'$K_p={:.2f}, T_I={:.2f}s, T_D={:.2f}s$'.format(PID_K, PID_TI, PID_TD)))"
   ]
  },
  {
   "cell_type": "markdown",
   "metadata": {},
   "source": [
    "### Prijenosne funkcije"
   ]
  },
  {
   "cell_type": "code",
   "execution_count": 48,
   "metadata": {},
   "outputs": [
    {
     "name": "stdout",
     "output_type": "stream",
     "text": [
      "Iz položaja polova i nula u kompleksnoj ravnini odredite prijenosnu funkciju sustava, ako je pojačanje procesa Kp=3.\n"
     ]
    },
    {
     "data": {
      "image/png": "[encoded data removed]",
      "text/plain": [
       "<Figure size 432x288 with 1 Axes>"
      ]
     },
     "metadata": {
      "needs_background": "light"
     },
     "output_type": "display_data"
    },
    {
     "name": "stdout",
     "output_type": "stream",
     "text": [
      "R:\n"
     ]
    },
    {
     "data": {
      "text/markdown": [
       "$G_P(s)=3\\frac{s+5}{(s-4)(s+3)}$"
      ],
      "text/plain": [
       "<IPython.core.display.Markdown object>"
      ]
     },
     "metadata": {},
     "output_type": "display_data"
    },
    {
     "name": "stdout",
     "output_type": "stream",
     "text": [
      "ili\n"
     ]
    },
    {
     "data": {
      "text/latex": [
       "$$\\frac{3 s + 15}{s^2 - s - 12}$$"
      ],
      "text/plain": [
       "\n",
       "  3 s + 15\n",
       "------------\n",
       "s^2 - s - 12"
      ]
     },
     "metadata": {},
     "output_type": "display_data"
    }
   ],
   "source": [
    "random.seed(seed+5)\n",
    "\n",
    "candidates = set(range(-5,5))\n",
    "candidates.remove(0)\n",
    "\n",
    "p1, p2, z1 = random.sample(candidates, 3)\n",
    "\n",
    "Kp = random.choice(range(1,5))\n",
    "\n",
    "Glti = lti([z1], [p1, p2], Kp).to_tf()\n",
    "G = control.tf(Glti.num, Glti.den)\n",
    "\n",
    "#plt.figure()\n",
    "control.pzmap(G)\n",
    "plt.grid()\n",
    "print('Iz položaja polova i nula u kompleksnoj ravnini odredite prijenosnu funkciju sustava, ako je pojačanje procesa Kp={:.0f}.'.format(Kp))\n",
    "plt.show()\n",
    "print('R:')\n",
    "display(Markdown(r'$G_P(s)={}\\frac{{s{:+}}}{{(s{:+})(s{:+})}}$'.format(Kp,-z1, -p1, -p2)))\n",
    "print('ili')\n",
    "display(G)"
   ]
  },
  {
   "cell_type": "code",
   "execution_count": 49,
   "metadata": {},
   "outputs": [
    {
     "name": "stdout",
     "output_type": "stream",
     "text": [
      "Koliko iznosi nadvišenje i vrijeme prvog maksimuma odziva na slici?\n"
     ]
    },
    {
     "data": {
      "image/png": "[encoded data removed]",
      "text/plain": [
       "<Figure size 432x288 with 1 Axes>"
      ]
     },
     "metadata": {
      "needs_background": "light"
     },
     "output_type": "display_data"
    },
    {
     "name": "stdout",
     "output_type": "stream",
     "text": [
      "R: \n"
     ]
    },
    {
     "data": {
      "text/markdown": [
       "$\\sigma_m$=19.06\\%, $t_m$=1.7s"
      ],
      "text/plain": [
       "<IPython.core.display.Markdown object>"
      ]
     },
     "metadata": {},
     "output_type": "display_data"
    }
   ],
   "source": [
    "# pokazatelji kvalitete\n",
    "random.seed(seed)\n",
    "\n",
    "zeta = random.uniform(0.3, 0.7)\n",
    "w_n = random.uniform(2, 10)\n",
    "K = random.uniform(0.5, 2)\n",
    "\n",
    "G = control.tf([K*w_n*w_n], [1, 2*zeta*w_n, w_n*w_n])\n",
    "\n",
    "oversh = 100*np.exp(-zeta*np.pi/np.sqrt(1-zeta**2))\n",
    "t_oversh = np.pi/w_n/np.sqrt(1-zeta**2)\n",
    "\n",
    "fig = plt.figure()\n",
    "ax = fig.add_subplot(111)\n",
    "\n",
    "T = np.linspace(0, 5*np.pi/w_n, 200)\n",
    "t, y = control.step_response(G, T)\n",
    "ax.grid()\n",
    "ax.set_xlabel('Vrijeme [s]')\n",
    "ax.set_ylabel('y')\n",
    "ax.plot(t, y)\n",
    "\n",
    "print('Koliko iznosi nadvišenje i vrijeme prvog maksimuma odziva na slici?')\n",
    "plt.show()\n",
    "\n",
    "print('R: ')\n",
    "display(Markdown(r'$\\sigma_m$={oversh:.2f}\\%, $t_m$={t_oversh:.1f}s'.format(oversh=oversh, t_oversh=t_oversh)))\n"
   ]
  },
  {
   "cell_type": "code",
   "execution_count": 25,
   "metadata": {},
   "outputs": [
    {
     "name": "stdout",
     "output_type": "stream",
     "text": [
      "Iz položaja polova i nula u kompleksnoj ravnini odredite prijenosnu funkciju sustava, ako je pojačanje Kp=1\n"
     ]
    },
    {
     "data": {
      "image/png": "[encoded data removed]",
      "text/plain": [
       "<Figure size 432x288 with 1 Axes>"
      ]
     },
     "metadata": {
      "needs_background": "light"
     },
     "output_type": "display_data"
    },
    {
     "data": {
      "text/markdown": [
       "$G_P(s)=\\frac{1}{s^2+2s+2}$"
      ],
      "text/plain": [
       "<IPython.core.display.Markdown object>"
      ]
     },
     "metadata": {},
     "output_type": "display_data"
    }
   ],
   "source": [
    "G1 = control.TransferFunction([1],[1, 2, 2])\n",
    "\n",
    "control.pzmap(G1)\n",
    "plt.grid()\n",
    "\n",
    "print('Iz položaja polova i nula u kompleksnoj ravnini odredite prijenosnu funkciju sustava, ako je pojačanje Kp=1')\n",
    "plt.show()\n",
    "display(Markdown('$G_P(s)=\\\\frac{1}{s^2+2s+2}$'))"
   ]
  },
  {
   "cell_type": "markdown",
   "metadata": {},
   "source": [
    "### Stabilnost"
   ]
  },
  {
   "cell_type": "code",
   "execution_count": 13,
   "metadata": {},
   "outputs": [
    {
     "name": "stdout",
     "output_type": "stream",
     "text": [
      "Odredite stabilnost sustava definiranih prijenosnim funkcijama:\n"
     ]
    },
    {
     "data": {
      "text/markdown": [
       "$G(s)=\\frac{s-1}{s^2+2s+1}$"
      ],
      "text/plain": [
       "<IPython.core.display.Markdown object>"
      ]
     },
     "metadata": {},
     "output_type": "display_data"
    },
    {
     "name": "stdout",
     "output_type": "stream",
     "text": [
      "R: stabilan proces\n",
      "\n"
     ]
    },
    {
     "data": {
      "text/markdown": [
       "$G(s)=\\frac{s+1}{(s+3)(s-2)(s+1)}$"
      ],
      "text/plain": [
       "<IPython.core.display.Markdown object>"
      ]
     },
     "metadata": {},
     "output_type": "display_data"
    },
    {
     "name": "stdout",
     "output_type": "stream",
     "text": [
      "R: nestabilan proces\n",
      "\n"
     ]
    }
   ],
   "source": [
    "# stabilnost sustava - polovi\n",
    "print('Odredite stabilnost sustava definiranih prijenosnim funkcijama:')\n",
    "display(Markdown('$G(s)=\\\\frac{s-1}{s^2+2s+1}$'))\n",
    "print('R: stabilan proces\\n')\n",
    "display(Markdown('$G(s)=\\\\frac{s+1}{(s+3)(s-2)(s+1)}$'))\n",
    "print('R: nestabilan proces\\n')"
   ]
  },
  {
   "cell_type": "code",
   "execution_count": 14,
   "metadata": {},
   "outputs": [
    {
     "name": "stdout",
     "output_type": "stream",
     "text": [
      "Na proces \n"
     ]
    },
    {
     "data": {
      "text/markdown": [
       "$G_P(s)=\\frac{1}{(s-3)}$"
      ],
      "text/plain": [
       "<IPython.core.display.Markdown object>"
      ]
     },
     "metadata": {},
     "output_type": "display_data"
    },
    {
     "name": "stdout",
     "output_type": "stream",
     "text": [
      "spojen je P regulator s pojačanjem Kr=2. Odredite stabilnost procesa i rezultantnog sustava.\n",
      "\n",
      "R:  Proces je nestabilan, rezultantni sustav je nestabilan.\n"
     ]
    }
   ],
   "source": [
    "Gp = '$G_P(s)=\\\\frac{1}{(s-3)}$'\n",
    "print('Na proces ')\n",
    "display(Markdown(Gp))\n",
    "     \n",
    "print('spojen je P regulator s pojačanjem Kr=2. Odredite stabilnost procesa i rezultantnog sustava.')\n",
    "\n",
    "print('\\nR: ', 'Proces je nestabilan, rezultantni sustav je nestabilan.')"
   ]
  },
  {
   "cell_type": "code",
   "execution_count": 15,
   "metadata": {},
   "outputs": [
    {
     "name": "stdout",
     "output_type": "stream",
     "text": [
      "Iz Bode dijagrama odredite fazno i amplitudno osiguranje sustava.\n",
      "\n",
      " R: A.O.=12.04dB, F.O.=67.60°\n"
     ]
    },
    {
     "data": {
      "image/png": "[encoded data removed]",
      "text/plain": [
       "<Figure size 432x288 with 2 Axes>"
      ]
     },
     "metadata": {
      "needs_background": "light"
     },
     "output_type": "display_data"
    }
   ],
   "source": [
    "# Bode prikaz, stabilnost\n",
    "G=control.tf([2],[1,3, 3, 1])\n",
    "#G = lti([1], [1, 1, 1, 1])\n",
    "w_min = 1e-1\n",
    "w_max = 4\n",
    "ws = np.exp(np.linspace(np.log(w_min), np.log(w_max), 200))\n",
    "\n",
    "#mag, phase, w=control.bode(G, Plot=True, dB=True)\n",
    "mag, phase, w=control.bode(G, omega=ws, Plot=True, dB=True)\n",
    "(gm, pm, wg, wp) = control.margin(G)\n",
    "\n",
    "print('Iz Bode dijagrama odredite fazno i amplitudno osiguranje sustava.')\n",
    "print('\\n R: A.O.={:.2f}dB, F.O.={:.2f}°'.format(control.mag2db(gm), pm))"
   ]
  },
  {
   "cell_type": "code",
   "execution_count": 16,
   "metadata": {},
   "outputs": [
    {
     "name": "stdout",
     "output_type": "stream",
     "text": [
      "Iz krivulje mjesta korijena procesa s dodanim P regulatorom možemo zaključiti da je:\n"
     ]
    },
    {
     "data": {
      "image/png": "[encoded data removed]",
      "text/plain": [
       "<Figure size 432x288 with 1 Axes>"
      ]
     },
     "metadata": {
      "needs_background": "light"
     },
     "output_type": "display_data"
    },
    {
     "name": "stdout",
     "output_type": "stream",
     "text": [
      "R:\n",
      "Početni sustav nestabilan, sustav upravljanja postaje stabilan uz dovoljno veliko pojačanje Kp\n"
     ]
    }
   ],
   "source": [
    "G = control.tf([1,1],[1, -2, 2])\n",
    "\n",
    "control.root_locus(G, xlim=[-10, 5])\n",
    "#plt.grid()\n",
    "#plt.xlim(-4,2)\n",
    "\n",
    "print('Iz krivulje mjesta korijena procesa s dodanim P regulatorom možemo zaključiti da je:')\n",
    "plt.show()\n",
    "print('R:')\n",
    "print('Početni sustav nestabilan, sustav upravljanja postaje stabilan uz dovoljno veliko pojačanje Kp')\n"
   ]
  },
  {
   "cell_type": "code",
   "execution_count": 17,
   "metadata": {},
   "outputs": [
    {
     "name": "stdout",
     "output_type": "stream",
     "text": [
      "Odredite stabilnost sustava I, II, III i IV prema odzivu na skokovitu funkciju\n"
     ]
    },
    {
     "name": "stderr",
     "output_type": "stream",
     "text": [
      "C:\\Users\\ivan.miskovic\\AppData\\Local\\Continuum\\anaconda3\\lib\\site-packages\\matplotlib\\cbook\\__init__.py:424: MatplotlibDeprecationWarning: \n",
      "Passing one of 'on', 'true', 'off', 'false' as a boolean is deprecated; use an actual boolean (True/False) instead.\n",
      "  warn_deprecated(\"2.2\", \"Passing one of 'on', 'true', 'off', 'false' as a \"\n"
     ]
    },
    {
     "data": {
      "image/png": "[encoded data removed]",
      "text/plain": [
       "<Figure size 432x288 with 4 Axes>"
      ]
     },
     "metadata": {},
     "output_type": "display_data"
    },
    {
     "name": "stdout",
     "output_type": "stream",
     "text": [
      "R: \n",
      "I) na rubu stabilnosti, II) stabilan, III) nestabilan, IV) nestabilan\n"
     ]
    }
   ],
   "source": [
    "G1 = lti([1],[1, 2, 2])\n",
    "G2 = lti([1],[1, 0, 1])\n",
    "G3 = lti([1],[1, -1])\n",
    "G4 = lti([],[0.1+2j, 0.1-2j],1)\n",
    "\n",
    "T = np.linspace(0,10, 200)\n",
    "t1, y1 = G2.step(T=T)\n",
    "t2, y2 = G1.step(T=T)\n",
    "t3, y3 = G3.step(T=T)\n",
    "t4, y4 = G4.step(T=T)\n",
    "\n",
    "fig = plt.figure()\n",
    "ax1 = fig.add_subplot(221, projection=None)\n",
    "ax2 = fig.add_subplot(222, projection=None)\n",
    "ax3 = fig.add_subplot(223, projection=None)\n",
    "ax4 = fig.add_subplot(224, projection=None)\n",
    "\n",
    "ax1.set_xlabel('I)')\n",
    "ax2.set_xlabel('II)')\n",
    "ax3.set_xlabel('III)')\n",
    "ax4.set_xlabel('IV)')\n",
    "\n",
    "ax1.tick_params( axis='y', which='both', left='off', labelleft='off')\n",
    "ax2.tick_params( axis='y', which='both', left='off', labelleft='off')\n",
    "ax3.tick_params( axis='y', which='both', left='off', labelleft='off')\n",
    "ax4.tick_params( axis='y', which='both', left='off', labelleft='off')\n",
    "ax1.tick_params( axis='x', which='both', bottom='off', labelbottom='off')\n",
    "ax2.tick_params( axis='x', which='both', bottom='off', labelbottom='off')\n",
    "ax3.tick_params( axis='x', which='both', bottom='off', labelbottom='off')\n",
    "ax4.tick_params( axis='x', which='both', bottom='off', labelbottom='off')\n",
    "\n",
    "ax1.plot(t1,y1)\n",
    "ax2.plot(t2,y2)\n",
    "ax3.plot(t3,y3)\n",
    "ax4.plot(t4,y4)\n",
    "#plt.grid()\n",
    "#plt.xlim(4,2)\n",
    "fig.tight_layout()\n",
    "print('Odredite stabilnost sustava I, II, III i IV prema odzivu na skokovitu funkciju')\n",
    "plt.show()\n",
    "\n",
    "print('R: ')\n",
    "print('I) na rubu stabilnosti, II) stabilan, III) nestabilan, IV) nestabilan')\n"
   ]
  }
 ],
 "metadata": {
  "hide_input": false,
  "kernelspec": {
   "display_name": "Python 3",
   "language": "python",
   "name": "python3"
  },
  "language_info": {
   "codemirror_mode": {
    "name": "ipython",
    "version": 3
   },
   "file_extension": ".py",
   "mimetype": "text/x-python",
   "name": "python",
   "nbconvert_exporter": "python",
   "pygments_lexer": "ipython3",
   "version": "3.7.0"
  },
  "widgets": {
   "state": {},
   "version": "1.1.1"
  }
 },
 "nbformat": 4,
 "nbformat_minor": 1
}
