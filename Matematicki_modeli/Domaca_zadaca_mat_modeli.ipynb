{
 "cells": [
  {
   "cell_type": "markdown",
   "metadata": {},
   "source": [
    "## Domaća zadaća - matematički modeli"
   ]
  },
  {
   "cell_type": "markdown",
   "metadata": {},
   "source": [
    "U sljedeće polje upišite svoj JMBAG i izvedite komandu (Run)"
   ]
  },
  {
   "cell_type": "code",
   "execution_count": 1,
   "metadata": {},
   "outputs": [],
   "source": [
    "from random import seed, uniform\n",
    "\n",
    "JMBAG = 123456   #ovdje upisite svoj JMBAG umjesto 123456"
   ]
  },
  {
   "cell_type": "markdown",
   "metadata": {},
   "source": [
    "## 1. Opruga i prigušnica"
   ]
  },
  {
   "cell_type": "code",
   "execution_count": 2,
   "metadata": {
    "scrolled": true
   },
   "outputs": [
    {
     "name": "stdout",
     "output_type": "stream",
     "text": [
      "m = 8.08\n",
      "k = 7.96\n",
      "c = 0.78\n"
     ]
    }
   ],
   "source": [
    "seed(JMBAG)\n",
    "print(\"m = {:.2f}\\nk = {:.2f}\\nc = {:.2f}\".format(uniform(0.1, 10), uniform(0.1, 10), uniform(0.5, 10)))"
   ]
  },
  {
   "cell_type": "markdown",
   "metadata": {},
   "source": [
    "## 2. Istosmjerni motor"
   ]
  },
  {
   "cell_type": "code",
   "execution_count": 3,
   "metadata": {},
   "outputs": [
    {
     "name": "stdout",
     "output_type": "stream",
     "text": [
      "L_a = 0.32\n",
      "R_a = 4.69\n",
      "Kb  = 2.50\n",
      "J   = 0.93\n",
      "K_f = 0.11\n"
     ]
    }
   ],
   "source": [
    "seed(JMBAG+1)\n",
    "L_a = uniform(0.1, 0.7)\n",
    "R_a = uniform(2, 8)\n",
    "Kb = uniform(1, 5)\n",
    "J = uniform(0.2, 1)\n",
    "K_f = uniform(0.05, 0.2)\n",
    "\n",
    "print(\"L_a = {:.2f}\\nR_a = {:.2f}\\nKb  = {:.2f}\\nJ   = {:.2f}\\nK_f = {:.2f}\".format(L_a, R_a, Kb, J, K_f))\n",
    "\n",
    "#L_a=0.3, R_a=3, Kb=3, J=0.5, k_f=0.1"
   ]
  },
  {
   "cell_type": "code",
   "execution_count": null,
   "metadata": {},
   "outputs": [],
   "source": []
  }
 ],
 "metadata": {
  "kernelspec": {
   "display_name": "Python 3",
   "language": "python",
   "name": "python3"
  },
  "language_info": {
   "codemirror_mode": {
    "name": "ipython",
    "version": 3
   },
   "file_extension": ".py",
   "mimetype": "text/x-python",
   "name": "python",
   "nbconvert_exporter": "python",
   "pygments_lexer": "ipython3",
   "version": "3.7.0"
  }
 },
 "nbformat": 4,
 "nbformat_minor": 2
}
