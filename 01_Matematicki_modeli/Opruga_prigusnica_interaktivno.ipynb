{
 "cells": [
  {
   "cell_type": "markdown",
   "metadata": {},
   "source": [
    "## Model tijela s oprugom i prigušnicom"
   ]
  },
  {
   "cell_type": "markdown",
   "metadata": {},
   "source": [
    "$mx(t)+cx(t)+kx(t) = F_u(t)$"
   ]
  },
  {
   "cell_type": "code",
   "execution_count": 1,
   "metadata": {},
   "outputs": [],
   "source": [
    "# priprema okruženja\n",
    "%matplotlib widget\n",
    "from utils import f_ode, resp_plot\n",
    "import math\n",
    "import ipywidgets as ipw\n",
    "import matplotlib.pyplot as plt"
   ]
  },
  {
   "cell_type": "code",
   "execution_count": 2,
   "metadata": {},
   "outputs": [],
   "source": [
    "def d_body_spring_dampener(m, k, c):\n",
    "    def deriv(t, u, p, v):            \n",
    "        # dp/dt = v\n",
    "        dp = v\n",
    "        # dv/dt = 1/m*(F_u-k*x-c*v)\n",
    "        dv = 1/m*(-k*p-c*v)\n",
    "\n",
    "        return [dp, dv]\n",
    "    \n",
    "    return deriv"
   ]
  },
  {
   "cell_type": "code",
   "execution_count": 3,
   "metadata": {},
   "outputs": [
    {
     "data": {
      "application/vnd.jupyter.widget-view+json": {
       "model_id": "694395590102437d8015f37bc4091202",
       "version_major": 2,
       "version_minor": 0
      },
      "text/plain": [
       "Canvas(toolbar=Toolbar(toolitems=[('Home', 'Reset original view', 'home', 'home'), ('Back', 'Back to previous …"
      ]
     },
     "metadata": {},
     "output_type": "display_data"
    },
    {
     "data": {
      "text/plain": [
       "<module 'matplotlib.pyplot' from 'C:\\\\Users\\\\ivan.HOMEPC\\\\Anaconda3\\\\lib\\\\site-packages\\\\matplotlib\\\\pyplot.py'>"
      ]
     },
     "execution_count": 3,
     "metadata": {},
     "output_type": "execute_result"
    }
   ],
   "source": [
    "t, y = f_ode(d_body_spring_dampener(m=1, \n",
    "                                    k=1, \n",
    "                                    c=1), #matematicki model\n",
    "            [1,0],# pocetni uvjeti\n",
    "             0,   # ulazni signal\n",
    "             10)  # vrijeme simulacije\n",
    "\n",
    "resp_plot(t, y, 'Odziv', ['Položaj', 'Brzina'])"
   ]
  },
  {
   "cell_type": "code",
   "execution_count": 4,
   "metadata": {},
   "outputs": [
    {
     "data": {
      "application/vnd.jupyter.widget-view+json": {
       "model_id": "3761fa2af6de40969e37128f1c3a1e48",
       "version_major": 2,
       "version_minor": 0
      },
      "text/plain": [
       "Canvas(toolbar=Toolbar(toolitems=[('Home', 'Reset original view', 'home', 'home'), ('Back', 'Back to previous …"
      ]
     },
     "metadata": {},
     "output_type": "display_data"
    },
    {
     "data": {
      "application/vnd.jupyter.widget-view+json": {
       "model_id": "5f373c8bbad845e09afcb28ed8bb8b6e",
       "version_major": 2,
       "version_minor": 0
      },
      "text/plain": [
       "VBox(children=(FloatLogSlider(value=1.0, description='m', max=2.0, min=-1.0), FloatLogSlider(value=1.0, descri…"
      ]
     },
     "metadata": {},
     "output_type": "display_data"
    }
   ],
   "source": [
    "params = {\n",
    "    'm': 1,\n",
    "    'k': 1,\n",
    "    'c': 1\n",
    "}\n",
    "\n",
    "def replot(change=None):\n",
    "    if change and change.name=='value':\n",
    "        params[change.owner.description] = change.new\n",
    "    \n",
    "    t, y = f_ode(d_body_spring_dampener(**params), #matematicki model\n",
    "                [1,0],# pocetni uvjeti\n",
    "                 0,\n",
    "                 10)  # vrijeme simulacije\n",
    "    axes=fig.get_axes()[0]\n",
    "    axes.clear()\n",
    "    axes.plot(t, y)\n",
    "    axes.grid()\n",
    "    \n",
    "sliders=[\n",
    "    ipw.FloatLogSlider(description='m', value=params['m'], min=-1, max=2, step=0.1),\n",
    "    ipw.FloatLogSlider(description='k', value=params['k'], min=-1, max=2, step=0.1),\n",
    "    ipw.FloatSlider(description='c', value=params['c'], min=0, max=5, step=0.1)\n",
    "]\n",
    "[slider.observe(replot) for slider in sliders]\n",
    "\n",
    "fig = plt.figure()\n",
    "fig.set_label('Odziv sustava')\n",
    "plt.grid()\n",
    "plt.legend(['Položaj', 'Brzina'])\n",
    "plt.show()\n",
    "\n",
    "replot()\n",
    "ipw.VBox(sliders)\n"
   ]
  },
  {
   "cell_type": "code",
   "execution_count": null,
   "metadata": {},
   "outputs": [],
   "source": []
  }
 ],
 "metadata": {
  "kernelspec": {
   "display_name": "Python 3",
   "language": "python",
   "name": "python3"
  },
  "language_info": {
   "codemirror_mode": {
    "name": "ipython",
    "version": 3
   },
   "file_extension": ".py",
   "mimetype": "text/x-python",
   "name": "python",
   "nbconvert_exporter": "python",
   "pygments_lexer": "ipython3",
   "version": "3.7.1"
  }
 },
 "nbformat": 4,
 "nbformat_minor": 2
}
