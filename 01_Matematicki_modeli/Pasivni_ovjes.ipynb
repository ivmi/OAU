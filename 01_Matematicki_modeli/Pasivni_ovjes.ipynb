{
 "cells": [
  {
   "cell_type": "markdown",
   "metadata": {},
   "source": [
    "## Model pasivnog ovjesa"
   ]
  },
  {
   "cell_type": "markdown",
   "metadata": {},
   "source": []
  },
  {
   "cell_type": "code",
   "execution_count": 1,
   "metadata": {},
   "outputs": [],
   "source": [
    "# priprema okruženja\n",
    "%matplotlib widget\n",
    "from utils import f_ode, resp_plot\n",
    "import math"
   ]
  },
  {
   "cell_type": "code",
   "execution_count": 2,
   "metadata": {},
   "outputs": [],
   "source": [
    "def d_ovjes(m_v, m_w, k_v, c_v, k_w):\n",
    "    def deriv(t, u, p_v, v_v, p_w, v_w):            \n",
    "        # dp/dt = v\n",
    "        dp_v = v_v\n",
    "        dp_w = v_w\n",
    "        \n",
    "        # dv/dt = 1/m*(F_u-k*x-c*v)\n",
    "        dv_v = 1/m_v*(-c_v*(v_v-v_w)-k_v*(p_v-p_w))   # matematicki model - ubrzanje\n",
    "        dv_w = 1/m_w*(+c_v*(v_v-v_w)+k_v*(p_v-p_w)-k_w*(p_w-u))   # matematicki model - ubrzanje\n",
    "        \n",
    "        return [dp_v, dv_v, dp_w, dv_w]\n",
    "    \n",
    "    return deriv"
   ]
  },
  {
   "cell_type": "code",
   "execution_count": 3,
   "metadata": {},
   "outputs": [
    {
     "data": {
      "application/vnd.jupyter.widget-view+json": {
       "model_id": "57ff058a959f44a78aaa6222afcb8a2f",
       "version_major": 2,
       "version_minor": 0
      },
      "text/plain": [
       "Canvas(toolbar=Toolbar(toolitems=[('Home', 'Reset original view', 'home', 'home'), ('Back', 'Back to previous …"
      ]
     },
     "metadata": {},
     "output_type": "display_data"
    }
   ],
   "source": [
    "t, y = f_ode(d_ovjes(m_v=200, m_w=30, k_v=150, c_v= 500, k_w=10000), #matematicki model\n",
    "            [0.1, 0, 0.1, 0],# pocetni uvjeti\n",
    "             0,\n",
    "             20)  # ukupno vrijeme simulacije\n",
    "\n",
    "resp_plot(t, y[:,(0,2)], 'Odziv', ['Položaj vozila', 'Položaj kotača']).show()"
   ]
  },
  {
   "cell_type": "code",
   "execution_count": 4,
   "metadata": {},
   "outputs": [
    {
     "data": {
      "application/vnd.jupyter.widget-view+json": {
       "model_id": "bb287acd7ce04fc190c5f6f0d5ad0da1",
       "version_major": 2,
       "version_minor": 0
      },
      "text/plain": [
       "Canvas(toolbar=Toolbar(toolitems=[('Home', 'Reset original view', 'home', 'home'), ('Back', 'Back to previous …"
      ]
     },
     "metadata": {},
     "output_type": "display_data"
    }
   ],
   "source": [
    "resp_plot(t, y[:,(1,3)], 'Odziv', ['Brzina vozila', 'Brzina kotača']).show()"
   ]
  },
  {
   "cell_type": "code",
   "execution_count": null,
   "metadata": {},
   "outputs": [],
   "source": []
  }
 ],
 "metadata": {
  "kernelspec": {
   "display_name": "Python 3",
   "language": "python",
   "name": "python3"
  },
  "language_info": {
   "codemirror_mode": {
    "name": "ipython",
    "version": 3
   },
   "file_extension": ".py",
   "mimetype": "text/x-python",
   "name": "python",
   "nbconvert_exporter": "python",
   "pygments_lexer": "ipython3",
   "version": "3.7.1"
  }
 },
 "nbformat": 4,
 "nbformat_minor": 2
}
