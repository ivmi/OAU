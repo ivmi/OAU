{
 "cells": [
  {
   "cell_type": "markdown",
   "metadata": {},
   "source": [
    "## Istosmjerni motor"
   ]
  },
  {
   "cell_type": "code",
   "execution_count": 1,
   "metadata": {},
   "outputs": [],
   "source": [
    "# priprema okruženja\n",
    "%matplotlib widget\n",
    "from utils import f_ode, resp_plot\n",
    "import math"
   ]
  },
  {
   "cell_type": "code",
   "execution_count": 2,
   "metadata": {},
   "outputs": [],
   "source": [
    "def d_motor(L_a, R_a, Kb, J, k_f):\n",
    "    def deriv(t, u, i_a, w):\n",
    "        u_b = w*Kb\n",
    "        di_a = 1/L_a*(u[0]-i_a*R_a-u_b)\n",
    "        M_m = Kb*i_a\n",
    "        dw = 1/J*(M_m+u[1]-k_f*w)        \n",
    "        \n",
    "        return [di_a, dw]\n",
    "    \n",
    "    return deriv"
   ]
  },
  {
   "cell_type": "code",
   "execution_count": 3,
   "metadata": {},
   "outputs": [
    {
     "data": {
      "application/vnd.jupyter.widget-view+json": {
       "model_id": "5e3e1ad412b647abb55fde657845f506",
       "version_major": 2,
       "version_minor": 0
      },
      "text/plain": [
       "Canvas(toolbar=Toolbar(toolitems=[('Home', 'Reset original view', 'home', 'home'), ('Back', 'Back to previous …"
      ]
     },
     "metadata": {},
     "output_type": "display_data"
    }
   ],
   "source": [
    "t, y = f_ode(d_motor(L_a=0.3, R_a=3, Kb=3, J=0.5, k_f=0.1), #matematicki model\n",
    "            [0, 0],# pocetni uvjeti\n",
    "             [10, 0], # ulazni signal\n",
    "             2)  # vrijeme simulacije\n",
    "\n",
    "resp_plot(t, y, 'Odziv', ['Struja armature', 'Brzina']).show()"
   ]
  },
  {
   "cell_type": "code",
   "execution_count": null,
   "metadata": {},
   "outputs": [],
   "source": []
  }
 ],
 "metadata": {
  "kernelspec": {
   "display_name": "Python 3",
   "language": "python",
   "name": "python3"
  },
  "language_info": {
   "codemirror_mode": {
    "name": "ipython",
    "version": 3
   },
   "file_extension": ".py",
   "mimetype": "text/x-python",
   "name": "python",
   "nbconvert_exporter": "python",
   "pygments_lexer": "ipython3",
   "version": "3.7.1"
  }
 },
 "nbformat": 4,
 "nbformat_minor": 2
}
