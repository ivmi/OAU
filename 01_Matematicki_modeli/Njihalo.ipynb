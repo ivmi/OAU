{
 "cells": [
  {
   "cell_type": "code",
   "execution_count": 1,
   "metadata": {},
   "outputs": [],
   "source": [
    "# priprema okruženja\n",
    "%matplotlib widget\n",
    "from utils import f_ode, resp_plot\n",
    "import math"
   ]
  },
  {
   "cell_type": "code",
   "execution_count": 2,
   "metadata": {},
   "outputs": [],
   "source": [
    "# Matematički model\n",
    "def d_pendulum(m, l, g):\n",
    "    def deriv(t, u, fi, w):                    \n",
    "        dfi = w\n",
    "        dw = (0 - m*g*l*math.sin(fi))/(m*l*l)\n",
    "                \n",
    "        return [dfi, dw]\n",
    "    \n",
    "    return deriv"
   ]
  },
  {
   "cell_type": "code",
   "execution_count": 3,
   "metadata": {},
   "outputs": [
    {
     "data": {
      "application/vnd.jupyter.widget-view+json": {
       "model_id": "8f89e93e33454817bee4139f787907db",
       "version_major": 2,
       "version_minor": 0
      },
      "text/plain": [
       "Canvas(toolbar=Toolbar(toolitems=[('Home', 'Reset original view', 'home', 'home'), ('Back', 'Back to previous …"
      ]
     },
     "metadata": {},
     "output_type": "display_data"
    }
   ],
   "source": [
    "# Odziv\n",
    "t, y = f_ode(d_pendulum(m=1, l=1, g=9.81), #matematicki model\n",
    "            [math.pi/2, 0],# pocetni uvjeti\n",
    "             0, # ulazni signal\n",
    "             5)  # vrijeme simulacije\n",
    "\n",
    "resp_plot(t, y, 'Odziv', ['Kut', 'Kutna brzina']).show()"
   ]
  },
  {
   "cell_type": "code",
   "execution_count": null,
   "metadata": {},
   "outputs": [],
   "source": []
  }
 ],
 "metadata": {
  "kernelspec": {
   "display_name": "Python 3",
   "language": "python",
   "name": "python3"
  },
  "language_info": {
   "codemirror_mode": {
    "name": "ipython",
    "version": 3
   },
   "file_extension": ".py",
   "mimetype": "text/x-python",
   "name": "python",
   "nbconvert_exporter": "python",
   "pygments_lexer": "ipython3",
   "version": "3.7.1"
  }
 },
 "nbformat": 4,
 "nbformat_minor": 2
}
