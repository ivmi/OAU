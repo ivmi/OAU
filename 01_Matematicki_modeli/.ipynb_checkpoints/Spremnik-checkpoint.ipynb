{
 "cells": [
  {
   "cell_type": "code",
   "execution_count": 1,
   "metadata": {},
   "outputs": [],
   "source": [
    "# priprema okruženja\n",
    "%matplotlib widget\n",
    "from utils import f_ode, resp_plot\n",
    "import math"
   ]
  },
  {
   "cell_type": "code",
   "execution_count": 2,
   "metadata": {},
   "outputs": [],
   "source": [
    "# Matematički model\n",
    "def d_spremnik(qu, As, Av):\n",
    "    g = 9.81\n",
    "    \n",
    "    def deriv(t, u, h):                    \n",
    "        qu=u\n",
    "        \n",
    "        if h<0:\n",
    "            h=0\n",
    "        \n",
    "        qi = Av*math.sqrt(2*g*h)\n",
    "        dh = 1/As * (qu-qi)\n",
    "        \n",
    "        return [dh]\n",
    "    \n",
    "    return deriv"
   ]
  },
  {
   "cell_type": "code",
   "execution_count": 6,
   "metadata": {},
   "outputs": [
    {
     "data": {
      "application/vnd.jupyter.widget-view+json": {
       "model_id": "c82ae4d927b846dc9a52596f87ed2839",
       "version_major": 2,
       "version_minor": 0
      },
      "text/plain": [
       "Canvas(toolbar=Toolbar(toolitems=[('Home', 'Reset original view', 'home', 'home'), ('Back', 'Back to previous …"
      ]
     },
     "metadata": {},
     "output_type": "display_data"
    }
   ],
   "source": [
    "# Odziv\n",
    "t, y = f_ode(d_spremnik(qu=0.1, As=1, Av=0.01), #matematicki model\n",
    "            [1],# pocetni uvjeti\n",
    "             0.00, # ulazni protok\n",
    "             60)  # vrijeme simulacije\n",
    "\n",
    "resp_plot(t, y, 'Odziv', ['Razina u spremniku']).show()"
   ]
  },
  {
   "cell_type": "code",
   "execution_count": null,
   "metadata": {},
   "outputs": [],
   "source": []
  }
 ],
 "metadata": {
  "kernelspec": {
   "display_name": "Python 3",
   "language": "python",
   "name": "python3"
  },
  "language_info": {
   "codemirror_mode": {
    "name": "ipython",
    "version": 3
   },
   "file_extension": ".py",
   "mimetype": "text/x-python",
   "name": "python",
   "nbconvert_exporter": "python",
   "pygments_lexer": "ipython3",
   "version": "3.7.1"
  }
 },
 "nbformat": 4,
 "nbformat_minor": 2
}
