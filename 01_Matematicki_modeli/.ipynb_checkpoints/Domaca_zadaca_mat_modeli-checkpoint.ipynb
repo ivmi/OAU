{
 "cells": [
  {
   "cell_type": "markdown",
   "metadata": {},
   "source": [
    "## Domaća zadaća - matematički modeli"
   ]
  },
  {
   "cell_type": "markdown",
   "metadata": {},
   "source": [
    "U sljedeće polje upišite svoj JMBAG i izvedite komandu (Run)"
   ]
  },
  {
   "cell_type": "code",
   "execution_count": null,
   "metadata": {},
   "outputs": [],
   "source": [
    "from random import seed, uniform\n",
    "\n",
    "JMBAG = 123456   #ovdje upišite svoj JMBAG umjesto 123456"
   ]
  },
  {
   "cell_type": "markdown",
   "metadata": {},
   "source": [
    "## 1. Opruga i prigušnica\n",
    "\n",
    "Pokretanjem sljedećeg polja dobit ćete parametre za vježbu 1. Potrebno ih je upisati u odgovarajuća polja prema zadatku zadaće."
   ]
  },
  {
   "cell_type": "code",
   "execution_count": null,
   "metadata": {
    "scrolled": true
   },
   "outputs": [],
   "source": [
    "seed(JMBAG)\n",
    "print(\"m = {:.2f}\\nk = {:.2f}\\nc = {:.2f}\".format(uniform(0.1, 10), uniform(0.1, 10), uniform(0.5, 10)))"
   ]
  },
  {
   "cell_type": "markdown",
   "metadata": {},
   "source": [
    "## 2. Istosmjerni motor\n",
    "\n",
    "Pokretanjem sljedećeg polja dobit ćete parametre za vježbu 2. Potrebno ih je upisati u odgovarajuća polja prema zadatku zadaće."
   ]
  },
  {
   "cell_type": "code",
   "execution_count": null,
   "metadata": {},
   "outputs": [],
   "source": [
    "seed(JMBAG+1)\n",
    "L_a = uniform(0.1, 0.7)\n",
    "R_a = uniform(2, 8)\n",
    "Kb = uniform(1, 5)\n",
    "J = uniform(0.2, 1)\n",
    "K_f = uniform(0.05, 0.2)\n",
    "\n",
    "print(\"L_a = {:.2f}\\nR_a = {:.2f}\\nKb  = {:.2f}\\nJ   = {:.2f}\\nK_f = {:.2f}\".format(L_a, R_a, Kb, J, K_f))\n",
    "\n",
    "#L_a=0.3, R_a=3, Kb=3, J=0.5, k_f=0.1"
   ]
  }
 ],
 "metadata": {
  "kernelspec": {
   "display_name": "Python 3",
   "language": "python",
   "name": "python3"
  },
  "language_info": {
   "codemirror_mode": {
    "name": "ipython",
    "version": 3
   },
   "file_extension": ".py",
   "mimetype": "text/x-python",
   "name": "python",
   "nbconvert_exporter": "python",
   "pygments_lexer": "ipython3",
   "version": "3.7.1"
  }
 },
 "nbformat": 4,
 "nbformat_minor": 2
}
