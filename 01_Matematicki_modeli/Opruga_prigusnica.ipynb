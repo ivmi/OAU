{
 "cells": [
  {
   "cell_type": "markdown",
   "metadata": {},
   "source": [
    "## Model tijela s oprugom i prigušnicom"
   ]
  },
  {
   "cell_type": "markdown",
   "metadata": {},
   "source": [
    "$mx(t)+cx(t)+kx(t) = F_u(t)$"
   ]
  },
  {
   "cell_type": "code",
   "execution_count": 1,
   "metadata": {},
   "outputs": [],
   "source": [
    "# priprema okruženja\n",
    "%matplotlib widget\n",
    "from utils import f_ode, resp_plot\n",
    "import math"
   ]
  },
  {
   "cell_type": "code",
   "execution_count": 2,
   "metadata": {},
   "outputs": [],
   "source": [
    "def d_body_spring_dampener(m, k, c):\n",
    "    def deriv(t, u, p, v):            \n",
    "        # dp/dt = v\n",
    "        dp = v\n",
    "        # dv/dt = 1/m*(F_u-k*x-c*v)\n",
    "        dv = 1/m*(-k*p-c*v)   # matematicki model - ubrzanje\n",
    "\n",
    "        return [dp, dv]\n",
    "    \n",
    "    return deriv"
   ]
  },
  {
   "cell_type": "code",
   "execution_count": 3,
   "metadata": {},
   "outputs": [
    {
     "data": {
      "application/vnd.jupyter.widget-view+json": {
       "model_id": "9ae015d79e5946b58cbc94949b1cf3c2",
       "version_major": 2,
       "version_minor": 0
      },
      "text/plain": [
       "Canvas(toolbar=Toolbar(toolitems=[('Home', 'Reset original view', 'home', 'home'), ('Back', 'Back to previous …"
      ]
     },
     "metadata": {},
     "output_type": "display_data"
    }
   ],
   "source": [
    "t, y = f_ode(d_body_spring_dampener(m=5, k=1, c=1), #matematicki model\n",
    "            [1,0],# pocetni uvjeti\n",
    "             0,\n",
    "            40)  # vrijeme simulacije\n",
    "\n",
    "resp_plot(t, y, 'Odziv', ['Položaj', 'Brzina']).show()"
   ]
  },
  {
   "cell_type": "code",
   "execution_count": null,
   "metadata": {},
   "outputs": [],
   "source": []
  }
 ],
 "metadata": {
  "kernelspec": {
   "display_name": "Python 3",
   "language": "python",
   "name": "python3"
  },
  "language_info": {
   "codemirror_mode": {
    "name": "ipython",
    "version": 3
   },
   "file_extension": ".py",
   "mimetype": "text/x-python",
   "name": "python",
   "nbconvert_exporter": "python",
   "pygments_lexer": "ipython3",
   "version": "3.7.1"
  }
 },
 "nbformat": 4,
 "nbformat_minor": 2
}
