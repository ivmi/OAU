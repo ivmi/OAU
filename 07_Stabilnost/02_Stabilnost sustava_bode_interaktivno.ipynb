{
 "cells": [
  {
   "cell_type": "markdown",
   "metadata": {},
   "source": [
    "# Interaktivni prikaz\n",
    "\n",
    "Notebook obuhvaća isto gradivo kao 01, ali s interaktivnim prikazom, bez dodatnih komentara.\n",
    "Da bi ispitali djelovanje s drugim procesom, promijenite funkciju get_model."
   ]
  },
  {
   "cell_type": "code",
   "execution_count": 7,
   "metadata": {},
   "outputs": [],
   "source": [
    "# priprema okruženja\n",
    "%matplotlib widget\n",
    "import numpy as np\n",
    "from scipy import signal\n",
    "import matplotlib.pyplot as plt\n",
    "plt.rcParams.update({'figure.max_open_warning': 0})\n",
    "import control\n",
    "\n",
    "import ipywidgets as ipw"
   ]
  },
  {
   "cell_type": "code",
   "execution_count": 12,
   "metadata": {},
   "outputs": [
    {
     "name": "stdout",
     "output_type": "stream",
     "text": [
      "Gp =\n"
     ]
    },
    {
     "data": {
      "text/latex": [
       "$$\\frac{1}{s^3 + 5 s^2 + 8 s + 6}$$"
      ],
      "text/plain": [
       "\n",
       "          1\n",
       "---------------------\n",
       "s^3 + 5 s^2 + 8 s + 6"
      ]
     },
     "execution_count": 12,
     "metadata": {},
     "output_type": "execute_result"
    }
   ],
   "source": [
    "s=control.tf([1, 0], [1])\n",
    "def get_model():\n",
    "    return 1/((s*s+2*s+2)*(s+3))\n",
    "\n",
    "print(\"Gp =\")\n",
    "get_model()"
   ]
  },
  {
   "cell_type": "code",
   "execution_count": 13,
   "metadata": {},
   "outputs": [
    {
     "data": {
      "application/vnd.jupyter.widget-view+json": {
       "model_id": "c5dec31761fa42d780c228fdbc62b03a",
       "version_major": 2,
       "version_minor": 0
      },
      "text/plain": [
       "Canvas(toolbar=Toolbar(toolitems=[('Home', 'Reset original view', 'home', 'home'), ('Back', 'Back to previous …"
      ]
     },
     "metadata": {},
     "output_type": "display_data"
    },
    {
     "data": {
      "application/vnd.jupyter.widget-view+json": {
       "model_id": "960ef524eb404ba4be6b11e2f9dd1304",
       "version_major": 2,
       "version_minor": 0
      },
      "text/plain": [
       "FloatSlider(value=1.0, description='Kr', min=1.0)"
      ]
     },
     "metadata": {},
     "output_type": "display_data"
    }
   ],
   "source": [
    "slider=ipw.FloatSlider(description='Kr', value=1, min=1, max=100, step=0.1)\n",
    "\n",
    "#interaktivni prikaz - bode\n",
    "def replot_bode(data=None):\n",
    "    Kp = slider.value\n",
    "    \n",
    "    Gp = get_model()\n",
    "    Gr=Kp\n",
    "    Gz = control.feedback(Gr*Gp)\n",
    "    \n",
    "    T = np.linspace(0, 10, 200)\n",
    "    tout, yout = control.step_response(Gz, T)\n",
    "    w_min = 1e-2\n",
    "    w_max = 1e1\n",
    "    ws = np.exp(np.linspace(np.log(w_min), np.log(w_max), 200))\n",
    "    mag, phase, omega=control.bode(Gr*Gp, omega=ws, Plot=False)\n",
    "\n",
    "    # mark 180 deg points\n",
    "    i_freq = np.argmax(phase<-np.pi)\n",
    "    \n",
    "    ax1.clear()\n",
    "    ax1.set_title('Odziv Gz na skokovitu pobudu, polovi')\n",
    "    ax1.plot(tout, yout)\n",
    "    ax1.grid()\n",
    "\n",
    "    ax2.clear()\n",
    "    poles, zeros = control.pzmap(Gz, Plot=False)\n",
    "    if len(poles) > 0:\n",
    "        ax2.scatter(np.real(poles), np.imag(poles), s=50, marker='x',\n",
    "                   facecolors='k')\n",
    "    if len(zeros) > 0:\n",
    "        ax2.scatter(np.real(zeros), np.imag(zeros), s=50, marker='o',\n",
    "                   facecolors='none', edgecolors='k')    \n",
    "        \n",
    "    # Add axes\n",
    "    #ax2.axhline(y=0, color='red')\n",
    "    ax2.axvline(x=0, color='red')\n",
    "    ax2.set_xlabel('Re')\n",
    "    ax2.set_ylabel('Im')\n",
    "    \n",
    "    ax2.set_xlim([-10,10])\n",
    "    ax2.grid()\n",
    "    \n",
    "    ax3.clear()\n",
    "    ax3.set_title('Bode plot Go')\n",
    "    ax3.semilogx(omega, 20 * np.log10(mag), '-bD', markevery=[i_freq])\n",
    "    ax3.set_ylim([-50,20])\n",
    "    ax3.grid()\n",
    "    \n",
    "    ax4.clear()\n",
    "    ax4.semilogx(omega, phase*180/np.pi, '-bD', markevery=[i_freq])\n",
    "    ax4.grid()\n",
    "    \n",
    "slider.unobserve_all()\n",
    "slider.observe(replot_bode, names=['value'])\n",
    "\n",
    "fig = plt.figure()\n",
    "fig.set_label(' ')\n",
    "\n",
    "ax1 = fig.add_subplot(221, projection=None)\n",
    "ax2 = fig.add_subplot(223, projection=None)\n",
    "ax3 = fig.add_subplot(222, projection=None)\n",
    "ax4 = fig.add_subplot(224, projection=None)\n",
    "\n",
    "replot_bode()\n",
    "slider"
   ]
  },
  {
   "cell_type": "code",
   "execution_count": null,
   "metadata": {},
   "outputs": [],
   "source": []
  },
  {
   "cell_type": "code",
   "execution_count": null,
   "metadata": {},
   "outputs": [],
   "source": []
  }
 ],
 "metadata": {
  "hide_input": false,
  "kernelspec": {
   "display_name": "Python 3",
   "language": "python",
   "name": "python3"
  },
  "language_info": {
   "codemirror_mode": {
    "name": "ipython",
    "version": 3
   },
   "file_extension": ".py",
   "mimetype": "text/x-python",
   "name": "python",
   "nbconvert_exporter": "python",
   "pygments_lexer": "ipython3",
   "version": "3.7.1"
  },
  "widgets": {
   "state": {
    "18cec8c8b3094a77970b97e32fe5ee51": {
     "views": [
      {
       "cell_index": 6
      },
      {
       "cell_index": 7
      },
      {
       "cell_index": 8
      }
     ]
    },
    "fa4df35798b24d2fa8a0f6a715ad6425": {
     "views": []
    }
   },
   "version": "1.1.1"
  }
 },
 "nbformat": 4,
 "nbformat_minor": 1
}
