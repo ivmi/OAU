{
 "cells": [
  {
   "cell_type": "markdown",
   "metadata": {},
   "source": [
    "# Stabilnost sustava\n",
    "\n",
    "Sadržaj vježbe:\n",
    "U prvom dijelu, definira se linearni proces (preko prijenosne funkcije) i prikazuju njegova svojstva.\n",
    "Procesu se potom dodaje P regulator i analiziraju se svojstva ukupnog procesa s povratnom vezom.\n",
    "\n",
    "Cilj vježbe je zaključiti kako dodavanje regulatora i zatvaranje povratne veze utječe na stabilnost procesa."
   ]
  },
  {
   "cell_type": "code",
   "execution_count": 1,
   "metadata": {},
   "outputs": [],
   "source": [
    "# priprema okruženja\n",
    "%matplotlib widget\n",
    "import numpy as np\n",
    "from scipy import signal\n",
    "import matplotlib.pyplot as plt\n",
    "plt.rcParams.update({'figure.max_open_warning': 0})\n",
    "import control\n",
    "\n",
    "import ipywidgets as ipw"
   ]
  },
  {
   "cell_type": "markdown",
   "metadata": {},
   "source": [
    "## 1. Proces\n",
    "\n",
    "Definicija prijenosne funkcije procesa\n",
    "\n",
    "- kad dođete do kraja možete ponoviti postupak za neki drugi proces (primjeri su ispod)\n"
   ]
  },
  {
   "cell_type": "code",
   "execution_count": 26,
   "metadata": {},
   "outputs": [
    {
     "name": "stdout",
     "output_type": "stream",
     "text": [
      "Gp = \n"
     ]
    },
    {
     "data": {
      "text/latex": [
       "$$\\frac{1}{s^3 + 5 s^2 + 8 s + 6}$$"
      ],
      "text/plain": [
       "\n",
       "          1\n",
       "---------------------\n",
       "s^3 + 5 s^2 + 8 s + 6"
      ]
     },
     "execution_count": 26,
     "metadata": {},
     "output_type": "execute_result"
    }
   ],
   "source": [
    "\n",
    "s=control.tf([1, 0], [1])\n",
    "\n",
    "Gp = 1/((s*s+2*s+2)*(s+3))\n",
    "\n",
    "#Gp = control.tf([1], [1, 3, 3, 1])\n",
    "#Gp = control.tf([1], [1, 1])\n",
    "#Gp = control.tf([1], [1, 2, 1])\n",
    "#Gp = control.tf([1], [1, -1])\n",
    "\n",
    "print(\"Gp = \")\n",
    "Gp"
   ]
  },
  {
   "cell_type": "markdown",
   "metadata": {},
   "source": [
    "Proučimo karakteristike procesa:\n",
    "- polovi i nule (stabilnost)\n",
    "- odziv na skokovitu pobudu\n",
    "- bode plot (frekvencijska karakteristika)\n"
   ]
  },
  {
   "cell_type": "code",
   "execution_count": 27,
   "metadata": {},
   "outputs": [
    {
     "name": "stdout",
     "output_type": "stream",
     "text": [
      "polovi: [-3.+0.j -1.+1.j -1.-1.j]\n",
      "nule: []\n"
     ]
    }
   ],
   "source": [
    "print(\"polovi: {}\".format(Gp.pole()))\n",
    "print(\"nule: {}\".format(Gp.zero()))"
   ]
  },
  {
   "cell_type": "markdown",
   "metadata": {},
   "source": [
    "Na sljedećem dijagramu nacrtan je položaj polova i nula prijenosne funkcije. Ako su svi polovi negativni (u lijevoj poluravnini), sustav je stabilan."
   ]
  },
  {
   "cell_type": "code",
   "execution_count": 30,
   "metadata": {},
   "outputs": [
    {
     "data": {
      "application/vnd.jupyter.widget-view+json": {
       "model_id": "270aea73556146f9a90dc9500d10a7fc",
       "version_major": 2,
       "version_minor": 0
      },
      "text/plain": [
       "Canvas(toolbar=Toolbar(toolitems=[('Home', 'Reset original view', 'home', 'home'), ('Back', 'Back to previous …"
      ]
     },
     "metadata": {},
     "output_type": "display_data"
    },
    {
     "data": {
      "text/plain": [
       "(array([-3.+0.j, -1.+1.j, -1.-1.j]), array([], dtype=float64))"
      ]
     },
     "execution_count": 30,
     "metadata": {},
     "output_type": "execute_result"
    }
   ],
   "source": [
    "# dijagram polova i nula\n",
    "control.pzmap(Gp)"
   ]
  },
  {
   "cell_type": "markdown",
   "metadata": {},
   "source": [
    "Za prijenosnu funkciju\n",
    "\n",
    "$G_p(s) = \\frac{1}{s^3+5s^2+8s+6}$\n",
    "\n",
    "polovi su\n",
    "$p_1 = 3$, \n",
    "$p_{2,3} = -1\\pm j$\n",
    "\n",
    "Svi polovi imaju negativan realan dio, pa možemo zaključiti da je proces stabilan.\n",
    "\n",
    "U nastavku ćemo iscrtati odziv na skokovitu pobudu da potvrdimo stabilnost."
   ]
  },
  {
   "cell_type": "code",
   "execution_count": 31,
   "metadata": {},
   "outputs": [
    {
     "data": {
      "application/vnd.jupyter.widget-view+json": {
       "model_id": "065d46320bbe44b68ffbb5c715818677",
       "version_major": 2,
       "version_minor": 0
      },
      "text/plain": [
       "Canvas(toolbar=Toolbar(toolitems=[('Home', 'Reset original view', 'home', 'home'), ('Back', 'Back to previous …"
      ]
     },
     "metadata": {},
     "output_type": "display_data"
    }
   ],
   "source": [
    "# odziv procesa na skokovitu pobudu\n",
    "\n",
    "T = np.linspace(0, 10, 200)\n",
    "tout,yout = control.step_response(Gp, T)\n",
    "# vremenski odziv\n",
    "fig = plt.figure()\n",
    "fig.set_label('Odziv procesa na skokovitu pobudu')\n",
    "\n",
    "plt.plot(tout,yout)\n",
    "plt.grid()\n",
    "plt.show()"
   ]
  },
  {
   "cell_type": "markdown",
   "metadata": {},
   "source": [
    "## 2. Kontroler\n",
    "\n",
    "Kontroler kojeg ćemo dodati je jednostavni P kontroler. Pojačanje kontrolera zadaje se varijablom Kr.\n",
    "\n",
    "$G_r(s) = Kr$"
   ]
  },
  {
   "cell_type": "code",
   "execution_count": 65,
   "metadata": {},
   "outputs": [
    {
     "data": {
      "text/latex": [
       "$$\\frac{50}{1}$$"
      ],
      "text/plain": [
       "\n",
       "50\n",
       "--\n",
       "1"
      ]
     },
     "execution_count": 65,
     "metadata": {},
     "output_type": "execute_result"
    }
   ],
   "source": [
    "# model kontrolera\n",
    "Kr = 50\n",
    "Gr = control.tf([Kr], [1])\n",
    "Gr"
   ]
  },
  {
   "cell_type": "markdown",
   "metadata": {},
   "source": [
    "Nakon definicije kontrolera tražimo ukupnu prijenosnu funkciju zatvorenog sustava upravljanja.\n",
    "\n",
    "$Gz = \\frac{GrGp}{1+GrGp}$\n",
    "\n",
    "Na prijenosnoj funkciji zatvorenog sustava provest ćemo istu analizu kao na početnom procesu."
   ]
  },
  {
   "cell_type": "code",
   "execution_count": 66,
   "metadata": {},
   "outputs": [
    {
     "name": "stdout",
     "output_type": "stream",
     "text": [
      "Gz = \n"
     ]
    },
    {
     "data": {
      "text/latex": [
       "$$\\frac{50}{s^3 + 5 s^2 + 8 s + 56}$$"
      ],
      "text/plain": [
       "\n",
       "          50\n",
       "----------------------\n",
       "s^3 + 5 s^2 + 8 s + 56"
      ]
     },
     "execution_count": 66,
     "metadata": {},
     "output_type": "execute_result"
    }
   ],
   "source": [
    "# zatvoreni sustav\n",
    "Gz = control.feedback(Gr*Gp)\n",
    "print(\"Gz = \")\n",
    "Gz"
   ]
  },
  {
   "cell_type": "code",
   "execution_count": 67,
   "metadata": {},
   "outputs": [
    {
     "name": "stdout",
     "output_type": "stream",
     "text": [
      "polovi: [-5.42718664+0.j          0.21359332+3.20512083j  0.21359332-3.20512083j]\n",
      "nule: []\n"
     ]
    }
   ],
   "source": [
    "# polovi zatvorenog sustava\n",
    "print(\"polovi: {}\".format(Gz.pole()))\n",
    "print(\"nule: {}\".format(Gz.zero()))"
   ]
  },
  {
   "cell_type": "code",
   "execution_count": 68,
   "metadata": {},
   "outputs": [
    {
     "data": {
      "application/vnd.jupyter.widget-view+json": {
       "model_id": "dc46094ae285498bbf5d47bb67152d41",
       "version_major": 2,
       "version_minor": 0
      },
      "text/plain": [
       "Canvas(toolbar=Toolbar(toolitems=[('Home', 'Reset original view', 'home', 'home'), ('Back', 'Back to previous …"
      ]
     },
     "metadata": {},
     "output_type": "display_data"
    },
    {
     "data": {
      "text/plain": [
       "(array([-5.42718664+0.j        ,  0.21359332+3.20512083j,\n",
       "         0.21359332-3.20512083j]), array([], dtype=float64))"
      ]
     },
     "execution_count": 68,
     "metadata": {},
     "output_type": "execute_result"
    }
   ],
   "source": [
    "# dijagram polova i nula\n",
    "control.pzmap(Gz)"
   ]
  },
  {
   "cell_type": "markdown",
   "metadata": {},
   "source": [
    "Možemo uočiti da su se polovi \"pomaknuli\" u odnosu na početni sustav, no još su uvijek u stabilnom području. Polovi koji imaju imaginarni dio (kompleksno konjugirani) su se primakli 0, dok se lijevi pol udaljio.\n",
    "\n",
    "Što je sa vremenskim odzivom procesa?"
   ]
  },
  {
   "cell_type": "code",
   "execution_count": 69,
   "metadata": {},
   "outputs": [
    {
     "data": {
      "application/vnd.jupyter.widget-view+json": {
       "model_id": "f0ee6365bc9f476fbd8398d93ea2485b",
       "version_major": 2,
       "version_minor": 0
      },
      "text/plain": [
       "Canvas(toolbar=Toolbar(toolitems=[('Home', 'Reset original view', 'home', 'home'), ('Back', 'Back to previous …"
      ]
     },
     "metadata": {},
     "output_type": "display_data"
    }
   ],
   "source": [
    "# odziv procesa na skokovitu pobudu\n",
    "T = np.linspace(0, 10, 200)\n",
    "tout,yout = control.step_response(Gz, T)\n",
    "# vremenski odziv\n",
    "fig = plt.figure()\n",
    "fig.set_label('Odziv zatvorenog procesa na skokovitu pobudu')\n",
    "\n",
    "plt.plot(tout,yout)\n",
    "plt.grid()\n",
    "plt.show()"
   ]
  },
  {
   "cell_type": "markdown",
   "metadata": {},
   "source": [
    "Vidimo da je odziv oscilatorniji u odnosu na proces (no još uvijek stabilan). Oscilatornost je posljedica dva para polova koji su se približili y-osi.\n",
    "\n",
    "Sada se vratite na prvo polje ispod naslova \"2. Kontroler\" i postavite Kr=20. Pokrenite sva polja do ove točke i usporedite što se dogodilo s polovima i odzivima.\n",
    "Rezultat: polovi su se dodatno razmaknuli, desni par se približio nuli, oscilacije odziva se se povećale.\n",
    "\n",
    "Pokušajte ponavljati proces dok ne nađete pojačanje na kojem su polovi na y-osi. Kako izgleda vremenski odziv u tom slučaju?\n",
    "\n",
    "Konačno, odaberite vrijednost Kr = 50 i još jednom ponovite postupak. Za taj slučaj, par polova postaje pozitivan, zatvoreni sustav upravljanja je nestabilan te se odziv rastitrava.\n",
    "\n",
    "Zaključak:\n",
    "- za odabrani proces i regulator parametar regulatora ima utjecaj na stabilnost procesa. \n",
    "- ako znamo prijenosne funkcije procesa i regulatora, možemo utvrditi stabilnost\n",
    "- u ovom slučaju, da bi ukupni proces bio stabilan, regulator mora imati pojačanje K manje od određenog iznosa.\n"
   ]
  },
  {
   "cell_type": "markdown",
   "metadata": {},
   "source": [
    "## 3. Analiza u otvorenoj petlji\n",
    "\n",
    "U proteklom primjeru računali smo prijenosnu funkciju zatvorenog sustava da bismo na njoj utvrdili stabilnost (preko položaja polova).\n",
    "\n",
    "Jedna od metoda određivanja stabilnosti bez računanja ukupne prijenosne funkcije je bode-ov kriterij stabilnosti.\n",
    "\n",
    "Prvo ćemo odrediti prijenosnu funkciju otvorenog kruga (odnosno prijenosnu funkciju svih elemenata od ulaza do kraja povratne veze, ali bez zatvaranja kruga):\n",
    "$G_o(s) = G_r(s) G_p(s)$"
   ]
  },
  {
   "cell_type": "code",
   "execution_count": 93,
   "metadata": {},
   "outputs": [
    {
     "data": {
      "text/latex": [
       "$$\\frac{10}{1}$$"
      ],
      "text/plain": [
       "\n",
       "10\n",
       "--\n",
       "1"
      ]
     },
     "execution_count": 93,
     "metadata": {},
     "output_type": "execute_result"
    }
   ],
   "source": [
    "#ponavljamo definiciju regulatora da se ne moramo vraćati gore\n",
    "# model kontrolera\n",
    "Kr = 10\n",
    "Gr = control.tf([Kr], [1])\n",
    "Gr"
   ]
  },
  {
   "cell_type": "code",
   "execution_count": 94,
   "metadata": {},
   "outputs": [
    {
     "name": "stdout",
     "output_type": "stream",
     "text": [
      "Go = \n"
     ]
    },
    {
     "data": {
      "text/latex": [
       "$$\\frac{10}{s^3 + 5 s^2 + 8 s + 6}$$"
      ],
      "text/plain": [
       "\n",
       "          10\n",
       "---------------------\n",
       "s^3 + 5 s^2 + 8 s + 6"
      ]
     },
     "execution_count": 94,
     "metadata": {},
     "output_type": "execute_result"
    }
   ],
   "source": [
    "#Kr = 1\n",
    "\n",
    "Go = Gr*Gp\n",
    "print(\"Go = \")\n",
    "Go"
   ]
  },
  {
   "cell_type": "markdown",
   "metadata": {},
   "source": [
    "Iscrtat ćemo bode dijagram (frekvencijsku karakteristiku) prijenosne funkcije otvorenog kruga. \n",
    "Na dijagramu ćemo pročitati koliko iznosi pojačanje ako je fazni pomak -180°."
   ]
  },
  {
   "cell_type": "code",
   "execution_count": 97,
   "metadata": {},
   "outputs": [
    {
     "data": {
      "application/vnd.jupyter.widget-view+json": {
       "model_id": "1505db2e3157495bbdfcad786f4da135",
       "version_major": 2,
       "version_minor": 0
      },
      "text/plain": [
       "Canvas(toolbar=Toolbar(toolitems=[('Home', 'Reset original view', 'home', 'home'), ('Back', 'Back to previous …"
      ]
     },
     "metadata": {},
     "output_type": "display_data"
    }
   ],
   "source": [
    "plt.figure()\n",
    "mag, phi, w = control.bode_plot(Go, dB=True)\n",
    "plt.show()"
   ]
  },
  {
   "cell_type": "code",
   "execution_count": 92,
   "metadata": {},
   "outputs": [
    {
     "name": "stdout",
     "output_type": "stream",
     "text": [
      "Frekevencija kod phi=-180: 2.9470517025518097\n",
      "Pojačanje kod phi=-180: -17.49658975676501\n"
     ]
    }
   ],
   "source": [
    "iw_phi180 = np.argmax(phi<-np.pi)\n",
    "mag_w_phi180= 20*np.log10(mag[iw_phi180])\n",
    "print(\"Frekevencija kod phi=-180: {}\".format(w[iw_phi180]))\n",
    "print(\"Pojačanje kod phi=-180: {}\".format(mag_w_phi180))"
   ]
  },
  {
   "cell_type": "markdown",
   "metadata": {},
   "source": [
    "Za proces\n",
    "\n",
    "$G_p(s) = \\frac{1}{s^3+5s^2+8s+6}$ \n",
    "\n",
    "i regulator\n",
    "\n",
    "$G_r(s) = 5$\n",
    "\n",
    "pojačanje iznosi približno -17db. Pojačanje manje od 0dB znači da će izlazni signal biti prigušen u odnosu na ulazi. U našem slučaju to znači da će proces biti stabilan kad zatvorimo povratnu vezu.\n",
    "\n",
    "Ukoliko bi pojačanje pri faznom pomaku od -180° bilo veće od 0dB, proces bi po zatvaranju povratne veze postao nestabilan.\n",
    "\n",
    "Za naš proces to znači da ako regulator pojačamo za 19db, destabilizirat ćemo sustav. Drugim riječima fazno osiguranje ovog sustava je 17dB.\n",
    "\n",
    "Pogledajmo o kojoj se vrijednosti regulatora radi:\n"
   ]
  },
  {
   "cell_type": "code",
   "execution_count": 86,
   "metadata": {},
   "outputs": [
    {
     "data": {
      "text/plain": [
       "37.583740428844415"
      ]
     },
     "execution_count": 86,
     "metadata": {},
     "output_type": "execute_result"
    }
   ],
   "source": [
    "def db2gain(db):\n",
    "    return 10**(db/20)\n",
    "\n",
    "db2gain(31.5)"
   ]
  },
  {
   "cell_type": "markdown",
   "metadata": {},
   "source": [
    "Pomnožimo početni Kr=5 s ovim pojačanjem:"
   ]
  },
  {
   "cell_type": "code",
   "execution_count": 35,
   "metadata": {},
   "outputs": [
    {
     "data": {
      "text/plain": [
       "35.4"
      ]
     },
     "execution_count": 35,
     "metadata": {},
     "output_type": "execute_result"
    }
   ],
   "source": [
    "5*7.08"
   ]
  },
  {
   "cell_type": "markdown",
   "metadata": {},
   "source": [
    "Ovo je upravo vrijednost pojačanja za koju ste u prethodnom poglavlju dobili odziv sa neprigušenim oscilacijama (odziv na rubu stabilnosti).\n",
    "\n",
    "Na ovaj način uspjeli smo utvrditi stabilnost zatvorenog sustava upravljanja bez računanja ukupne prijenosne funkcije. Također smo zaključili koliko možemo povećati pojačanje regulatora prije nego što ukupni proces postane nestabilan.\n",
    "\n",
    "Isti postupak mogli smo primijeniti i za bilo koji drugi tip regulatora (npr PI regulator). I tada možemo izvoditi zaključke o utjecaju promjene pojačanja regulatora na ukupni proces."
   ]
  }
 ],
 "metadata": {
  "hide_input": false,
  "kernelspec": {
   "display_name": "Python 3",
   "language": "python",
   "name": "python3"
  },
  "language_info": {
   "codemirror_mode": {
    "name": "ipython",
    "version": 3
   },
   "file_extension": ".py",
   "mimetype": "text/x-python",
   "name": "python",
   "nbconvert_exporter": "python",
   "pygments_lexer": "ipython3",
   "version": "3.7.0"
  },
  "widgets": {
   "state": {
    "18cec8c8b3094a77970b97e32fe5ee51": {
     "views": [
      {
       "cell_index": 6
      },
      {
       "cell_index": 7
      },
      {
       "cell_index": 8
      }
     ]
    },
    "fa4df35798b24d2fa8a0f6a715ad6425": {
     "views": []
    }
   },
   "version": "1.1.1"
  }
 },
 "nbformat": 4,
 "nbformat_minor": 1
}
