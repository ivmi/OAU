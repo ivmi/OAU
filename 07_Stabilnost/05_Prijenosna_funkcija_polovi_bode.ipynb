{
 "cells": [
  {
   "cell_type": "markdown",
   "metadata": {},
   "source": [
    "# Prikaz karakteristika prijenosne funkcije (zajednički dijagram)\n",
    "\n"
   ]
  },
  {
   "cell_type": "code",
   "execution_count": 45,
   "metadata": {},
   "outputs": [],
   "source": [
    "# priprema okruženja\n",
    "%matplotlib widget\n",
    "import numpy as np\n",
    "from scipy import signal\n",
    "import matplotlib.pyplot as plt\n",
    "plt.rcParams.update({'figure.max_open_warning': 0})\n",
    "import control\n",
    "\n",
    "#import ipywidgets as ipw"
   ]
  },
  {
   "cell_type": "code",
   "execution_count": 46,
   "metadata": {},
   "outputs": [],
   "source": [
    "def system_plot(G):\n",
    "    fig = plt.figure()\n",
    "    fig.set_label('Karakteristike procesa')\n",
    "\n",
    "    ax1 = fig.add_subplot(221, projection=None)\n",
    "    ax2 = fig.add_subplot(223, projection=None)\n",
    "    ax3 = fig.add_subplot(222, projection=None)\n",
    "    ax4 = fig.add_subplot(224, projection=None)\n",
    "    \n",
    "    tout, yout = control.step_response(G)\n",
    "    w_min = 1e-2\n",
    "    w_max = 1e1\n",
    "    ws = np.exp(np.linspace(np.log(w_min), np.log(w_max), 200))\n",
    "#    mag, phase, omega=control.bode(G, omega=ws, Plot=False)\n",
    "    mag, phase, omega=control.bode(G, Plot=False)\n",
    "\n",
    "    # mark 180 deg points\n",
    "    i_freq = np.argmax(phase<-np.pi)    \n",
    "    \n",
    "    \n",
    "    ax1.plot(tout, yout)\n",
    "    ax1.grid()\n",
    "    \n",
    "    ax2.clear()\n",
    "    poles, zeros = control.pzmap(G, Plot=False)\n",
    "    if len(poles) > 0:\n",
    "        ax2.scatter(np.real(poles), np.imag(poles), s=50, marker='x',\n",
    "                   facecolors='k')\n",
    "    if len(zeros) > 0:\n",
    "        ax2.scatter(np.real(zeros), np.imag(zeros), s=50, marker='o',\n",
    "                   facecolors='none', edgecolors='k')    \n",
    "        \n",
    "    # Add axes\n",
    "    #ax2.axhline(y=0, color='red')\n",
    "    ax2.axvline(x=0, color='red')\n",
    "    ax2.set_xlabel('Re')\n",
    "    ax2.set_ylabel('Im')\n",
    "    \n",
    "    #ax2.set_xlim([-10,10])\n",
    "    ax2.grid()\n",
    "    \n",
    "    ax3.clear()\n",
    "    ax3.set_title('Bode plot')\n",
    "    ax3.semilogx(omega, 20 * np.log10(mag), '-bD', markevery=[i_freq])\n",
    "#    ax3.set_ylim([-50,20])\n",
    "    ax3.set_ylabel('Mag [dB]')    \n",
    "    ax3.grid()\n",
    "    \n",
    "    ax4.clear()\n",
    "    ax4.semilogx(omega, phase*180/np.pi, '-bD', markevery=[i_freq])\n",
    "    ax4.grid()\n",
    "    ax4.set_xlabel('w [rad/s]')\n",
    "    ax4.set_ylabel('deg [°]')    \n",
    "    return plt"
   ]
  },
  {
   "cell_type": "code",
   "execution_count": 49,
   "metadata": {},
   "outputs": [
    {
     "data": {
      "application/vnd.jupyter.widget-view+json": {
       "model_id": "0fcf3917e93042399129d55351c874ff",
       "version_major": 2,
       "version_minor": 0
      },
      "text/plain": [
       "Canvas(toolbar=Toolbar(toolitems=[('Home', 'Reset original view', 'home', 'home'), ('Back', 'Back to previous …"
      ]
     },
     "metadata": {},
     "output_type": "display_data"
    }
   ],
   "source": [
    "s=control.tf([1, 0], [1])\n",
    "#Gp = 1/((s*s+2*s+2)*(s+3))\n",
    "Gp = (s+2)/(s+3)\n",
    "\n",
    "\n",
    "system_plot(Gp).show()"
   ]
  },
  {
   "cell_type": "code",
   "execution_count": null,
   "metadata": {},
   "outputs": [],
   "source": []
  }
 ],
 "metadata": {
  "hide_input": false,
  "kernelspec": {
   "display_name": "Python 3",
   "language": "python",
   "name": "python3"
  },
  "language_info": {
   "codemirror_mode": {
    "name": "ipython",
    "version": 3
   },
   "file_extension": ".py",
   "mimetype": "text/x-python",
   "name": "python",
   "nbconvert_exporter": "python",
   "pygments_lexer": "ipython3",
   "version": "3.7.1"
  },
  "widgets": {
   "state": {
    "18cec8c8b3094a77970b97e32fe5ee51": {
     "views": [
      {
       "cell_index": 6
      },
      {
       "cell_index": 7
      },
      {
       "cell_index": 8
      }
     ]
    },
    "fa4df35798b24d2fa8a0f6a715ad6425": {
     "views": []
    }
   },
   "version": "1.1.1"
  }
 },
 "nbformat": 4,
 "nbformat_minor": 1
}
