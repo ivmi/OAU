{
 "cells": [
  {
   "cell_type": "markdown",
   "metadata": {},
   "source": [
    "# Stabilnost sustava s povratnom vezom\n",
    "\n",
    "Notebook pokriva isto gradivo kao 01, ali bez dodatnih komentara kako bi bio jednostavniji za ispitivanje."
   ]
  },
  {
   "cell_type": "code",
   "execution_count": 1,
   "metadata": {},
   "outputs": [],
   "source": [
    "# priprema okruženja\n",
    "%matplotlib widget\n",
    "import numpy as np\n",
    "from scipy import signal\n",
    "import matplotlib.pyplot as plt\n",
    "plt.rcParams.update({'figure.max_open_warning': 0})\n",
    "import control\n",
    "\n",
    "import ipywidgets as ipw"
   ]
  },
  {
   "cell_type": "code",
   "execution_count": 11,
   "metadata": {},
   "outputs": [
    {
     "name": "stdout",
     "output_type": "stream",
     "text": [
      "Gp =  \n",
      "          1\n",
      "---------------------\n",
      "s^3 + 5 s^2 + 8 s + 6\n",
      " \n",
      "\n",
      "Gr =  \n",
      "5\n",
      "-\n",
      "1\n",
      "\n"
     ]
    }
   ],
   "source": [
    "# ovdje postavite prijenosne funkcije modela i regulatora\n",
    "\n",
    "s=control.tf([1, 0], [1])\n",
    "def get_model():\n",
    "    return \n",
    "\n",
    "def get_controller():\n",
    "    return \n",
    "\n",
    "Gp = 1/((s*s+2*s+2)*(s+3))\n",
    "Gr = control.tf([5], [1])\n",
    "\n",
    "print(\"Gp = \", Gp, \"\\n\")\n",
    "print(\"Gr = \", Gr)\n"
   ]
  },
  {
   "cell_type": "markdown",
   "metadata": {},
   "source": [
    "## 1. Proces"
   ]
  },
  {
   "cell_type": "code",
   "execution_count": 22,
   "metadata": {},
   "outputs": [
    {
     "name": "stdout",
     "output_type": "stream",
     "text": [
      "Nule i polovi procesa:\n",
      "polovi: [-3.+0.j -1.+1.j -1.-1.j]\n",
      "nule: []\n"
     ]
    }
   ],
   "source": [
    "print(\"Nule i polovi procesa:\")\n",
    "print(\"polovi: {}\".format(Gp.pole()))\n",
    "print(\"nule: {}\".format(Gp.zero()))\n"
   ]
  },
  {
   "cell_type": "markdown",
   "metadata": {},
   "source": [
    "Dijagram nula i polova"
   ]
  },
  {
   "cell_type": "code",
   "execution_count": 16,
   "metadata": {},
   "outputs": [
    {
     "data": {
      "application/vnd.jupyter.widget-view+json": {
       "model_id": "dac710c5e6a4451897e22ab20f21dd7c",
       "version_major": 2,
       "version_minor": 0
      },
      "text/plain": [
       "Canvas(toolbar=Toolbar(toolitems=[('Home', 'Reset original view', 'home', 'home'), ('Back', 'Back to previous …"
      ]
     },
     "metadata": {},
     "output_type": "display_data"
    },
    {
     "data": {
      "text/plain": [
       "(array([-3.+0.j, -1.+1.j, -1.-1.j]), array([], dtype=float64))"
      ]
     },
     "execution_count": 16,
     "metadata": {},
     "output_type": "execute_result"
    }
   ],
   "source": [
    "control.pzmap(Gp)"
   ]
  },
  {
   "cell_type": "code",
   "execution_count": 20,
   "metadata": {},
   "outputs": [
    {
     "data": {
      "application/vnd.jupyter.widget-view+json": {
       "model_id": "79550262e55f423db1c79788a2457ce3",
       "version_major": 2,
       "version_minor": 0
      },
      "text/plain": [
       "Canvas(toolbar=Toolbar(toolitems=[('Home', 'Reset original view', 'home', 'home'), ('Back', 'Back to previous …"
      ]
     },
     "metadata": {},
     "output_type": "display_data"
    }
   ],
   "source": [
    "# odziv procesa na skokovitu pobudu\n",
    "tout,yout = control.step_response(Gp)\n",
    "# vremenski odziv\n",
    "fig = plt.figure()\n",
    "fig.set_label('Odziv procesa na skokovitu pobudu')\n",
    "plt.plot(tout,yout)\n",
    "plt.grid()\n",
    "plt.show()"
   ]
  },
  {
   "cell_type": "markdown",
   "metadata": {},
   "source": [
    "## 2. Povratna veza"
   ]
  },
  {
   "cell_type": "code",
   "execution_count": 23,
   "metadata": {},
   "outputs": [
    {
     "name": "stdout",
     "output_type": "stream",
     "text": [
      "Gz = \n"
     ]
    },
    {
     "data": {
      "text/latex": [
       "$$\\frac{5}{s^3 + 5 s^2 + 8 s + 11}$$"
      ],
      "text/plain": [
       "\n",
       "          5\n",
       "----------------------\n",
       "s^3 + 5 s^2 + 8 s + 11"
      ]
     },
     "execution_count": 23,
     "metadata": {},
     "output_type": "execute_result"
    }
   ],
   "source": [
    "# zatvoreni sustav\n",
    "Gz = control.feedback(Gr*Gp)\n",
    "print(\"Gz = \")\n",
    "Gz"
   ]
  },
  {
   "cell_type": "code",
   "execution_count": 25,
   "metadata": {},
   "outputs": [
    {
     "name": "stdout",
     "output_type": "stream",
     "text": [
      "polovi: [-3.6310993 +0.j         -0.68445035+1.60028539j -0.68445035-1.60028539j]\n",
      "nule: []\n"
     ]
    }
   ],
   "source": [
    "# polovi zatvorenog sustava\n",
    "print(\"polovi: {}\".format(Gz.pole()))\n",
    "print(\"nule: {}\".format(Gz.zero()))"
   ]
  },
  {
   "cell_type": "markdown",
   "metadata": {},
   "source": [
    "Dijagram nula i polova"
   ]
  },
  {
   "cell_type": "code",
   "execution_count": 37,
   "metadata": {},
   "outputs": [
    {
     "data": {
      "application/vnd.jupyter.widget-view+json": {
       "model_id": "95c5c1913c08452090709f701989187b",
       "version_major": 2,
       "version_minor": 0
      },
      "text/plain": [
       "Canvas(toolbar=Toolbar(toolitems=[('Home', 'Reset original view', 'home', 'home'), ('Back', 'Back to previous …"
      ]
     },
     "metadata": {},
     "output_type": "display_data"
    }
   ],
   "source": [
    "# dijagram polova i nula\n",
    "p, z = control.pzmap(Gz)"
   ]
  },
  {
   "cell_type": "code",
   "execution_count": 38,
   "metadata": {},
   "outputs": [
    {
     "data": {
      "application/vnd.jupyter.widget-view+json": {
       "model_id": "caf82241e7dd4a548404c581d656f33a",
       "version_major": 2,
       "version_minor": 0
      },
      "text/plain": [
       "Canvas(toolbar=Toolbar(toolitems=[('Home', 'Reset original view', 'home', 'home'), ('Back', 'Back to previous …"
      ]
     },
     "metadata": {},
     "output_type": "display_data"
    }
   ],
   "source": [
    "# odziv zatvorenog procesa na skokovitu pobudu\n",
    "tout,yout = control.step_response(Gz)\n",
    "fig = plt.figure()\n",
    "fig.set_label('Odziv zatvorenog procesa na skokovitu pobudu')\n",
    "\n",
    "plt.plot(tout,yout)\n",
    "plt.grid()\n",
    "plt.show()"
   ]
  },
  {
   "cell_type": "markdown",
   "metadata": {},
   "source": [
    "## 3. Analiza u otvorenoj petlji\n",
    "\n",
    "Bode plot otvorene petlje"
   ]
  },
  {
   "cell_type": "code",
   "execution_count": 63,
   "metadata": {},
   "outputs": [],
   "source": [
    "Go = Gr*Gp"
   ]
  },
  {
   "cell_type": "code",
   "execution_count": 64,
   "metadata": {},
   "outputs": [
    {
     "data": {
      "application/vnd.jupyter.widget-view+json": {
       "model_id": "bd41e12bb4f04e63a02052455b271211",
       "version_major": 2,
       "version_minor": 0
      },
      "text/plain": [
       "Canvas(toolbar=Toolbar(toolitems=[('Home', 'Reset original view', 'home', 'home'), ('Back', 'Back to previous …"
      ]
     },
     "metadata": {},
     "output_type": "display_data"
    }
   ],
   "source": [
    "plt.figure()\n",
    "mag, phi, w = control.bode_plot(Go, dB=True)\n",
    "plt.show()"
   ]
  },
  {
   "cell_type": "code",
   "execution_count": 65,
   "metadata": {},
   "outputs": [
    {
     "name": "stdout",
     "output_type": "stream",
     "text": [
      "Frekevencija kod phi=-180: 2.9470517025518097\n",
      "Pojačanje kod phi=-180: -17.49658975676501\n"
     ]
    }
   ],
   "source": [
    "iw_phi180 = np.argmax(phi<-np.pi)\n",
    "mag_w_phi180= 20*np.log10(mag[iw_phi180])\n",
    "print(\"Frekevencija kod phi=-180: {}\".format(w[iw_phi180]))\n",
    "print(\"Pojačanje kod phi=-180: {}\".format(mag_w_phi180))"
   ]
  },
  {
   "cell_type": "code",
   "execution_count": 67,
   "metadata": {},
   "outputs": [
    {
     "name": "stdout",
     "output_type": "stream",
     "text": [
      "Amplitudno osiguranje:  17.49658975676501 dB\n",
      "Fazno osiguranje:  172.35174906891402 °\n"
     ]
    }
   ],
   "source": [
    "# upozorenje: ako je pojačanje na cijelom grafu ispod nule, donji rezultat za fazno osiguranje nije točan (jer nema smisla)\n",
    "print(\"Amplitudno osiguranje: \", -mag_w_phi180, \"dB\")\n",
    "print(\"Fazno osiguranje: \", 180+phi[np.argmax(mag<1)]*180/np.pi, \"°\")"
   ]
  },
  {
   "cell_type": "code",
   "execution_count": null,
   "metadata": {},
   "outputs": [],
   "source": []
  }
 ],
 "metadata": {
  "hide_input": false,
  "kernelspec": {
   "display_name": "Python 3",
   "language": "python",
   "name": "python3"
  },
  "language_info": {
   "codemirror_mode": {
    "name": "ipython",
    "version": 3
   },
   "file_extension": ".py",
   "mimetype": "text/x-python",
   "name": "python",
   "nbconvert_exporter": "python",
   "pygments_lexer": "ipython3",
   "version": "3.7.1"
  },
  "widgets": {
   "state": {
    "18cec8c8b3094a77970b97e32fe5ee51": {
     "views": [
      {
       "cell_index": 6
      },
      {
       "cell_index": 7
      },
      {
       "cell_index": 8
      }
     ]
    },
    "fa4df35798b24d2fa8a0f6a715ad6425": {
     "views": []
    }
   },
   "version": "1.1.1"
  }
 },
 "nbformat": 4,
 "nbformat_minor": 1
}
