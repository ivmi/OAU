{
 "cells": [
  {
   "cell_type": "markdown",
   "metadata": {},
   "source": [
    "# Krivulja mjesta korijena\n",
    "\n",
    "Krivulja mjesta korijena govori nam sljedeće:\n",
    "- ako nekom procesu dodamo P regulator i zatvorimo povratnu vezu\n",
    "- kako će se mijenjati polovi zatvorenog procesa ako povećavamo pojačanje regulatora?"
   ]
  },
  {
   "cell_type": "code",
   "execution_count": 1,
   "metadata": {},
   "outputs": [],
   "source": [
    "# priprema okruženja\n",
    "%matplotlib widget\n",
    "import numpy as np\n",
    "from scipy import signal\n",
    "import matplotlib.pyplot as plt\n",
    "plt.rcParams.update({'figure.max_open_warning': 0})\n",
    "import control\n",
    "\n",
    "import ipywidgets as ipw"
   ]
  },
  {
   "cell_type": "code",
   "execution_count": 4,
   "metadata": {},
   "outputs": [
    {
     "name": "stdout",
     "output_type": "stream",
     "text": [
      "Gp = \n",
      "          1\n",
      "---------------------\n",
      "s^3 + 5 s^2 + 8 s + 6\n",
      "\n"
     ]
    }
   ],
   "source": [
    "s=control.tf([1, 0], [1])\n",
    "def get_model():\n",
    "    return 1/((s*s+2*s+2)*(s+3))\n",
    "\n",
    "Gp = get_model()\n",
    "print(\"Gp =\", Gp)"
   ]
  },
  {
   "cell_type": "code",
   "execution_count": 5,
   "metadata": {},
   "outputs": [
    {
     "name": "stderr",
     "output_type": "stream",
     "text": [
      "C:\\Users\\ivan.HOMEPC\\Anaconda3\\lib\\site-packages\\control\\rlocus.py:144: MatplotlibDeprecationWarning: Adding an axes using the same arguments as a previous axes currently reuses the earlier instance.  In a future version, a new instance will always be created and returned.  Meanwhile, this warning can be suppressed, and the future behavior ensured, by passing a unique label to each axes instance.\n",
      "  ax = pylab.axes()\n"
     ]
    }
   ],
   "source": [
    "# funkcija ima bug, ne itava se ako se ponovno pokrene polje\n",
    "# scrpotrebno je restartati notebook\n",
    "k, g = control.root_locus(Gp)"
   ]
  },
  {
   "cell_type": "code",
   "execution_count": 6,
   "metadata": {},
   "outputs": [
    {
     "data": {
      "application/vnd.jupyter.widget-view+json": {
       "model_id": "e8301f6645114b7393d88693f3c495ad",
       "version_major": 2,
       "version_minor": 0
      },
      "text/plain": [
       "Canvas(toolbar=Toolbar(toolitems=[('Home', 'Reset original view', 'home', 'home'), ('Back', 'Back to previous …"
      ]
     },
     "metadata": {},
     "output_type": "display_data"
    },
    {
     "name": "stdout",
     "output_type": "stream",
     "text": [
      "Clicked at   -0.02446    +2.851j gain      34.24 damp    0.00858\n",
      "Clicked at    -0.4717    +1.927j gain      10.07 damp     0.2378\n",
      "Clicked at    -0.2086    +2.438j gain      21.47 damp    0.08525\n",
      "Clicked at    -0.6033    +1.778j gain      7.311 damp     0.3213\n"
     ]
    }
   ],
   "source": [
    "control.sisotool(Gp)"
   ]
  },
  {
   "cell_type": "code",
   "execution_count": 7,
   "metadata": {},
   "outputs": [
    {
     "name": "stdout",
     "output_type": "stream",
     "text": [
      "Help on function sisotool in module control.sisotool:\n",
      "\n",
      "sisotool(sys, kvect=None, xlim_rlocus=None, ylim_rlocus=None, plotstr_rlocus='C0', rlocus_grid=False, omega=None, dB=None, Hz=None, deg=None, omega_limits=None, omega_num=None, margins_bode=True, tvect=None)\n",
      "    Sisotool style collection of plots inspired by MATLAB's sisotool.\n",
      "    The left two plots contain the bode magnitude and phase diagrams.\n",
      "    The top right plot is a clickable root locus plot, clicking on the\n",
      "    root locus will change the gain of the system. The bottom left plot\n",
      "    shows a closed loop time response.\n",
      "    \n",
      "    Parameters\n",
      "    ----------\n",
      "    sys : LTI object\n",
      "        Linear input/output systems (SISO only)\n",
      "    kvect : list or ndarray, optional\n",
      "        List of gains to use for plotting root locus\n",
      "    xlim_rlocus : tuple or list, optional\n",
      "        control of x-axis range, normally with tuple (see matplotlib.axes)\n",
      "    ylim_rlocus : tuple or list, optional\n",
      "        control of y-axis range\n",
      "    plotstr_rlocus : Additional options to matplotlib\n",
      "        plotting style for the root locus plot(color, linestyle, etc)\n",
      "    rlocus_grid: boolean (default = False)\n",
      "        If True plot s-plane grid.\n",
      "    omega : freq_range\n",
      "        Range of frequencies in rad/sec for the bode plot\n",
      "    dB : boolean\n",
      "        If True, plot result in dB for the bode plot\n",
      "    Hz : boolean\n",
      "        If True, plot frequency in Hz for the bode plot (omega must be provided in rad/sec)\n",
      "    deg : boolean\n",
      "        If True, plot phase in degrees for the bode plot (else radians)\n",
      "    omega_limits: tuple, list, ... of two values\n",
      "        Limits of the to generate frequency vector.\n",
      "        If Hz=True the limits are in Hz otherwise in rad/s.\n",
      "    omega_num: int\n",
      "        number of samples\n",
      "    margins_bode : boolean\n",
      "        If True, plot gain and phase margin in the bode plot\n",
      "    tvect : list or ndarray, optional\n",
      "        List of timesteps to use for closed loop step response\n",
      "    \n",
      "    Examples\n",
      "    --------\n",
      "    >>> sys = tf([1000], [1,25,100,0])\n",
      "    >>> sisotool(sys)\n",
      "\n"
     ]
    }
   ],
   "source": [
    "help(control.sisotool)"
   ]
  },
  {
   "cell_type": "code",
   "execution_count": null,
   "metadata": {},
   "outputs": [],
   "source": []
  }
 ],
 "metadata": {
  "hide_input": false,
  "kernelspec": {
   "display_name": "Python 3",
   "language": "python",
   "name": "python3"
  },
  "language_info": {
   "codemirror_mode": {
    "name": "ipython",
    "version": 3
   },
   "file_extension": ".py",
   "mimetype": "text/x-python",
   "name": "python",
   "nbconvert_exporter": "python",
   "pygments_lexer": "ipython3",
   "version": "3.7.1"
  },
  "widgets": {
   "state": {
    "18cec8c8b3094a77970b97e32fe5ee51": {
     "views": [
      {
       "cell_index": 6
      },
      {
       "cell_index": 7
      },
      {
       "cell_index": 8
      }
     ]
    },
    "fa4df35798b24d2fa8a0f6a715ad6425": {
     "views": []
    }
   },
   "version": "1.1.1"
  }
 },
 "nbformat": 4,
 "nbformat_minor": 1
}
