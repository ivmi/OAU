{
 "cells": [
  {
   "cell_type": "code",
   "execution_count": 1,
   "metadata": {},
   "outputs": [],
   "source": [
    "# priprema okruženja\n",
    "%matplotlib widget\n",
    "import numpy as np\n",
    "from scipy import signal\n",
    "import matplotlib.pyplot as plt\n",
    "import control\n",
    "\n",
    "import ipywidgets as ipw"
   ]
  },
  {
   "cell_type": "code",
   "execution_count": 2,
   "metadata": {},
   "outputs": [
    {
     "data": {
      "text/latex": [
       "$$\\frac{1}{s^3 + 3 s^2 + 3 s + 1}$$"
      ],
      "text/plain": [
       "\n",
       "          1\n",
       "---------------------\n",
       "s^3 + 3 s^2 + 3 s + 1"
      ]
     },
     "execution_count": 2,
     "metadata": {},
     "output_type": "execute_result"
    }
   ],
   "source": [
    "# model procesa\n",
    "def create_model():\n",
    "#    model = control.TransferFunction([1], [1, 1])\n",
    "#    model = control.TransferFunction([1], [1, 2, 1])\n",
    "    model = control.TransferFunction([1], [1, 3, 3, 1])\n",
    "#    model = control.TransferFunction([1], [1, -1])\n",
    "#    model = model*model*model\n",
    "\n",
    "\n",
    "    return model\n",
    "\n",
    "Gp = create_model() \n",
    "Gp"
   ]
  },
  {
   "cell_type": "code",
   "execution_count": 3,
   "metadata": {},
   "outputs": [],
   "source": [
    "# model kontrolera\n",
    "Kp = 1\n",
    "def create_controller(K):\n",
    "    model = control.TransferFunction([K], [1])\n",
    "    return model\n",
    "\n",
    "Gr = create_controller(Kp) "
   ]
  },
  {
   "cell_type": "code",
   "execution_count": 4,
   "metadata": {},
   "outputs": [
    {
     "data": {
      "text/latex": [
       "$$\\frac{1}{s^3 + 3 s^2 + 3 s + 2}$$"
      ],
      "text/plain": [
       "\n",
       "          1\n",
       "---------------------\n",
       "s^3 + 3 s^2 + 3 s + 2"
      ]
     },
     "execution_count": 4,
     "metadata": {},
     "output_type": "execute_result"
    }
   ],
   "source": [
    "# zatvoreni sustav\n",
    "Gz = control.feedback(Gr*Gp)\n",
    "Gz"
   ]
  },
  {
   "cell_type": "code",
   "execution_count": 12,
   "metadata": {},
   "outputs": [
    {
     "data": {
      "text/plain": [
       "array([-2. +0.j       , -0.5+0.8660254j, -0.5-0.8660254j])"
      ]
     },
     "execution_count": 12,
     "metadata": {},
     "output_type": "execute_result"
    }
   ],
   "source": [
    "# polovi zatvorenog sustava\n",
    "Gz.pole()"
   ]
  },
  {
   "cell_type": "code",
   "execution_count": 28,
   "metadata": {
    "scrolled": false
   },
   "outputs": [
    {
     "data": {
      "application/vnd.jupyter.widget-view+json": {
       "model_id": "e7abd573ef9c41ab98e454cafbd8173c",
       "version_major": 2,
       "version_minor": 0
      },
      "text/plain": [
       "Canvas(toolbar=Toolbar(toolitems=[('Home', 'Reset original view', 'home', 'home'), ('Back', 'Back to previous …"
      ]
     },
     "metadata": {},
     "output_type": "display_data"
    },
    {
     "data": {
      "application/vnd.jupyter.widget-view+json": {
       "model_id": "41b4d4e6bb1d492c996328ac22f809ec",
       "version_major": 2,
       "version_minor": 0
      },
      "text/plain": [
       "FloatSlider(value=0.1, max=10.0, min=0.1)"
      ]
     },
     "metadata": {},
     "output_type": "display_data"
    }
   ],
   "source": [
    "slider=ipw.FloatSlider(value=0.1, min=0.1, max=10, step=0.1)\n",
    "#interaktivni prikaz - bode\n",
    "def replot_bode(data=None):\n",
    "    Kp = slider.value\n",
    "    \n",
    "    Gp = create_model()\n",
    "    Gr=Kp\n",
    "    Gz = control.feedback(Gr*Gp)\n",
    "    \n",
    "    T = np.linspace(0, 10, 200)\n",
    "    tout, yout = control.step_response(Gz, T)\n",
    "    w_min = 1e-2\n",
    "    w_max = 1e1\n",
    "    ws = np.exp(np.linspace(np.log(w_min), np.log(w_max), 200))\n",
    "    mag, phase, omega=control.bode(Gr*Gp, omega=ws, Plot=False)\n",
    "\n",
    "    # mark 180 deg points\n",
    "    i_freq = np.argmax(phase<-np.pi)\n",
    "    \n",
    "    ax1.clear()\n",
    "    ax1.plot(tout, yout)\n",
    "    ax1.grid()    \n",
    "    \n",
    "    ax2.clear()\n",
    "    ax2.semilogx(omega, 20 * np.log10(mag), '-bD', markevery=[i_freq])\n",
    "    ax2.set_ylim([-50,20])\n",
    "    ax2.grid()\n",
    "    \n",
    "    ax3.clear()\n",
    "    ax3.semilogx(omega, phase*180/np.pi, '-bD', markevery=[i_freq])\n",
    "    ax3.grid()\n",
    "    \n",
    "slider.unobserve_all()\n",
    "slider.observe(replot_bode, names=['value'])\n",
    "\n",
    "fig = plt.figure()\n",
    "fig.set_label('Bode plot otvorene petlje')\n",
    "\n",
    "ax1 = fig.add_subplot(311, projection=None)\n",
    "ax2 = fig.add_subplot(312, projection=None)\n",
    "ax3 = fig.add_subplot(313, projection=None)\n",
    "\n",
    "replot_bode()\n",
    "slider"
   ]
  },
  {
   "cell_type": "code",
   "execution_count": 18,
   "metadata": {},
   "outputs": [],
   "source": [
    "w_min = 1e-2\n",
    "w_max = 1e1\n",
    "ws = np.exp(np.linspace(np.log(w_min), np.log(w_max), 200))\n",
    "mag, phase, omega=control.bode(10*Gp, omega=ws, Plot=False)"
   ]
  },
  {
   "cell_type": "code",
   "execution_count": 25,
   "metadata": {},
   "outputs": [
    {
     "data": {
      "application/vnd.jupyter.widget-view+json": {
       "model_id": "23c193f8924344c0ac56169a52270a7e",
       "version_major": 2,
       "version_minor": 0
      },
      "text/plain": [
       "Canvas(toolbar=Toolbar(toolitems=[('Home', 'Reset original view', 'home', 'home'), ('Back', 'Back to previous …"
      ]
     },
     "metadata": {},
     "output_type": "display_data"
    },
    {
     "data": {
      "text/plain": [
       "[<matplotlib.lines.Line2D at 0x1b2aae74cf8>]"
      ]
     },
     "execution_count": 25,
     "metadata": {},
     "output_type": "execute_result"
    }
   ],
   "source": [
    "plt.figure()\n",
    "plt.semilogx(omega, phase*180/np.pi, '-bD')"
   ]
  },
  {
   "cell_type": "code",
   "execution_count": 7,
   "metadata": {},
   "outputs": [
    {
     "data": {
      "application/vnd.jupyter.widget-view+json": {
       "model_id": "143d752b58514b1483424cb3e1fb092e",
       "version_major": 2,
       "version_minor": 0
      },
      "text/plain": [
       "Canvas(toolbar=Toolbar(toolitems=[('Home', 'Reset original view', 'home', 'home'), ('Back', 'Back to previous …"
      ]
     },
     "metadata": {},
     "output_type": "display_data"
    },
    {
     "data": {
      "application/vnd.jupyter.widget-view+json": {
       "model_id": "7693785e2fd5408fad43f763122d4071",
       "version_major": 2,
       "version_minor": 0
      },
      "text/plain": [
       "FloatSlider(value=9.3, max=10.0, min=0.1)"
      ]
     },
     "metadata": {},
     "output_type": "display_data"
    }
   ],
   "source": [
    "#interaktivni prikaz\n",
    "def replot(data=None):\n",
    "    Kp = slider.value\n",
    "    \n",
    "    Gp = create_model()\n",
    "    Gr=Kp\n",
    "    \n",
    "    Gz = control.feedback(Gr*Gp)\n",
    "    T = np.linspace(0, 10, 200)\n",
    "    tout, yout = control.step_response(Gz, T)\n",
    "\n",
    "    plt.cla()\n",
    "    plt.plot(tout, yout)\n",
    "    plt.grid()\n",
    "\n",
    "slider.unobserve_all()\n",
    "slider.observe(replot, names=['value'])\n",
    "\n",
    "fig = plt.figure()\n",
    "fig.set_label('Odziv prijenosne funkcije na skokovitu pobudu')\n",
    "\n",
    "replot()\n",
    "plt.legend(['Ulaz', 'Vanjska temperatura', 'Izlaz (temperatura spremnika)'])\n",
    "slider"
   ]
  },
  {
   "cell_type": "code",
   "execution_count": 8,
   "metadata": {},
   "outputs": [
    {
     "data": {
      "application/vnd.jupyter.widget-view+json": {
       "model_id": "d226416421424da0af266246347894e8",
       "version_major": 2,
       "version_minor": 0
      },
      "text/plain": [
       "Canvas(toolbar=Toolbar(toolitems=[('Home', 'Reset original view', 'home', 'home'), ('Back', 'Back to previous …"
      ]
     },
     "metadata": {},
     "output_type": "display_data"
    },
    {
     "data": {
      "application/vnd.jupyter.widget-view+json": {
       "model_id": "7693785e2fd5408fad43f763122d4071",
       "version_major": 2,
       "version_minor": 0
      },
      "text/plain": [
       "FloatSlider(value=3.3, max=10.0, min=0.1)"
      ]
     },
     "metadata": {},
     "output_type": "display_data"
    }
   ],
   "source": [
    "#interaktivni prikaz - nyquist\n",
    "def replot_nyq(data=None):\n",
    "    Kp = slider.value\n",
    "    \n",
    "    Gp = create_model()\n",
    "    Gr=Kp\n",
    "    Gz = control.feedback(Gr*Gp)\n",
    "    \n",
    "    T = np.linspace(0, 10, 200)\n",
    "    tout, yout = control.step_response(Gz, T)\n",
    "    w_min = 1e-2\n",
    "    w_max = 1e1\n",
    "    ws = np.exp(np.linspace(np.log(w_min), np.log(w_max), 200))\n",
    "    x, y, omega=control.nyquist_plot(Gr*Gp, omega=ws, Plot=False)\n",
    "\n",
    "    ax1.clear()\n",
    "    ax1.plot(tout, yout)\n",
    "    ax1.grid()    \n",
    "    \n",
    "    ax2.clear()\n",
    "    plt.plot(x, y, '-', color='b')\n",
    "    plt.plot(x, -y, '--', color='b')\n",
    "    # Mark the -1 point\n",
    "    plt.plot([-1], [0], 'r+')\n",
    "    ax2.grid()\n",
    "    \n",
    "    \n",
    "slider.unobserve_all()\n",
    "slider.observe(replot_nyq, names=['value'])\n",
    "\n",
    "fig = plt.figure()\n",
    "fig.set_label('Bode plot otvorene petlje')\n",
    "\n",
    "ax1 = fig.add_subplot(211, projection=None)\n",
    "ax2 = fig.add_subplot(212, projection=None)\n",
    "\n",
    "replot_nyq()\n",
    "slider"
   ]
  },
  {
   "cell_type": "code",
   "execution_count": 9,
   "metadata": {},
   "outputs": [
    {
     "data": {
      "application/vnd.jupyter.widget-view+json": {
       "model_id": "e375d274675b42f8a75d0619716a103f",
       "version_major": 2,
       "version_minor": 0
      },
      "text/plain": [
       "Canvas(toolbar=Toolbar(toolitems=[('Home', 'Reset original view', 'home', 'home'), ('Back', 'Back to previous …"
      ]
     },
     "metadata": {},
     "output_type": "display_data"
    },
    {
     "data": {
      "application/vnd.jupyter.widget-view+json": {
       "model_id": "7693785e2fd5408fad43f763122d4071",
       "version_major": 2,
       "version_minor": 0
      },
      "text/plain": [
       "FloatSlider(value=1.7, max=10.0, min=0.1)"
      ]
     },
     "metadata": {},
     "output_type": "display_data"
    }
   ],
   "source": [
    "#interaktivni prikaz - polovi i nule\n",
    "def replot_pzmap(data=None):\n",
    "    Kp = slider.value\n",
    "    \n",
    "    Gp = create_model()\n",
    "    Gr=Kp\n",
    "    Gz = control.feedback(Gr*Gp)\n",
    "    \n",
    "    T = np.linspace(0, 10, 200)\n",
    "    tout, yout = control.step_response(Gz, T)\n",
    "    w_min = 1e-2\n",
    "    w_max = 1e1\n",
    "    ws = np.exp(np.linspace(np.log(w_min), np.log(w_max), 200))\n",
    "    poles = Gz.pole()\n",
    "    zeros = Gz.zero()\n",
    "    \n",
    "    ax1.clear()\n",
    "    ax1.plot(tout, yout)\n",
    "    ax1.grid()  \n",
    "    \n",
    "    ax2.clear()\n",
    "    # Plot the locations of the poles and zeros\n",
    "    if len(poles) > 0:\n",
    "        ax2.scatter(np.real(poles), np.imag(poles), s=50, marker='x')\n",
    "    if len(zeros) > 0:\n",
    "        ax2.scatter(np.real(zeros), np.imag(zeros), s=50, marker='o',\n",
    "                    facecolors='none')\n",
    "    # Add axes\n",
    "    #Somewhat silly workaround\n",
    "    ax2.axhline(y=0, color='black')\n",
    "    ax2.axvline(x=0, color='black')\n",
    "    ax2.set_xlabel('Re')\n",
    "    ax2.set_ylabel('Im')\n",
    "\n",
    "    \n",
    "slider.unobserve_all()\n",
    "slider.observe(replot_pzmap, names=['value'])\n",
    "\n",
    "fig = plt.figure()\n",
    "fig.set_label('Bode plot otvorene petlje')\n",
    "\n",
    "ax1 = fig.add_subplot(211, projection=None)\n",
    "ax2 = fig.add_subplot(212, projection=None)\n",
    "\n",
    "replot_pzmap()\n",
    "slider"
   ]
  },
  {
   "cell_type": "code",
   "execution_count": 23,
   "metadata": {},
   "outputs": [
    {
     "data": {
      "text/plain": [
       "\n",
       "          1\n",
       "---------------------\n",
       "s^3 + 3 s^2 + 3 s + 2"
      ]
     },
     "execution_count": 23,
     "metadata": {},
     "output_type": "execute_result"
    }
   ],
   "source": [
    "Gz\n"
   ]
  },
  {
   "cell_type": "code",
   "execution_count": null,
   "metadata": {},
   "outputs": [],
   "source": []
  }
 ],
 "metadata": {
  "hide_input": false,
  "kernelspec": {
   "display_name": "Python 3",
   "language": "python",
   "name": "python3"
  },
  "language_info": {
   "codemirror_mode": {
    "name": "ipython",
    "version": 3
   },
   "file_extension": ".py",
   "mimetype": "text/x-python",
   "name": "python",
   "nbconvert_exporter": "python",
   "pygments_lexer": "ipython3",
   "version": "3.7.1"
  },
  "widgets": {
   "state": {
    "18cec8c8b3094a77970b97e32fe5ee51": {
     "views": [
      {
       "cell_index": 6
      },
      {
       "cell_index": 7
      },
      {
       "cell_index": 8
      }
     ]
    },
    "fa4df35798b24d2fa8a0f6a715ad6425": {
     "views": []
    }
   },
   "version": "1.1.1"
  }
 },
 "nbformat": 4,
 "nbformat_minor": 1
}
