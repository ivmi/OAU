{
 "cells": [
  {
   "cell_type": "markdown",
   "metadata": {},
   "source": [
    "# Krivulja mjesta korijena\n",
    "\n",
    "Krivulja mjesta korijena govori nam sljedeće:\n",
    "- ako nekom procesu dodamo P regulator i zatvorimo povratnu vezu\n",
    "- kako će se mijenjati polovi zatvorenog procesa ako povećavamo pojačanje regulatora?"
   ]
  },
  {
   "cell_type": "code",
   "execution_count": 1,
   "metadata": {},
   "outputs": [],
   "source": [
    "# priprema okruženja\n",
    "%matplotlib widget\n",
    "import numpy as np\n",
    "from scipy import signal\n",
    "import matplotlib.pyplot as plt\n",
    "plt.rcParams.update({'figure.max_open_warning': 0})\n",
    "import control\n",
    "\n",
    "import ipywidgets as ipw"
   ]
  },
  {
   "cell_type": "code",
   "execution_count": 4,
   "metadata": {},
   "outputs": [
    {
     "name": "stdout",
     "output_type": "stream",
     "text": [
      "Gp = \n",
      "        s + 3\n",
      "---------------------\n",
      "s^3 + 5 s^2 + 8 s + 6\n",
      "\n"
     ]
    }
   ],
   "source": [
    "s=control.tf([1, 0], [1])\n",
    "def get_model():\n",
    "    return (s+3)/((s*s+2*s+2)*(s+3))\n",
    "\n",
    "Gp = get_model()\n",
    "print(\"Gp =\", Gp)"
   ]
  },
  {
   "cell_type": "code",
   "execution_count": 5,
   "metadata": {},
   "outputs": [
    {
     "name": "stderr",
     "output_type": "stream",
     "text": [
      "C:\\Users\\ivan.HOMEPC\\Anaconda3\\lib\\site-packages\\control\\rlocus.py:144: MatplotlibDeprecationWarning: Adding an axes using the same arguments as a previous axes currently reuses the earlier instance.  In a future version, a new instance will always be created and returned.  Meanwhile, this warning can be suppressed, and the future behavior ensured, by passing a unique label to each axes instance.\n",
      "  ax = pylab.axes()\n"
     ]
    }
   ],
   "source": [
    "# funkcija ima bug, ne itava se ako se ponovno pokrene polje\n",
    "# scrpotrebno je restartati notebook\n",
    "k, g = control.root_locus(Gp)"
   ]
  },
  {
   "cell_type": "code",
   "execution_count": 5,
   "metadata": {},
   "outputs": [
    {
     "data": {
      "application/vnd.jupyter.widget-view+json": {
       "model_id": "f1b3722e6d4e410eb4e544621401c286",
       "version_major": 2,
       "version_minor": 0
      },
      "text/plain": [
       "Canvas(toolbar=Toolbar(toolitems=[('Home', 'Reset original view', 'home', 'home'), ('Back', 'Back to previous …"
      ]
     },
     "metadata": {},
     "output_type": "display_data"
    },
    {
     "name": "stdout",
     "output_type": "stream",
     "text": [
      "Clicked at    -0.4191     +2.02j gain      11.82 damp     0.2031\n",
      "Clicked at   -0.02446    +2.746j gain      31.35 damp   0.008907\n",
      "Clicked at    -0.3402    +2.218j gain      15.76 damp     0.1516\n",
      "Clicked at    -0.7085    +1.492j gain      3.912 damp      0.429\n"
     ]
    }
   ],
   "source": [
    "control.sisotool(Gp)"
   ]
  },
  {
   "cell_type": "code",
   "execution_count": null,
   "metadata": {},
   "outputs": [],
   "source": []
  }
 ],
 "metadata": {
  "hide_input": false,
  "kernelspec": {
   "display_name": "Python 3",
   "language": "python",
   "name": "python3"
  },
  "language_info": {
   "codemirror_mode": {
    "name": "ipython",
    "version": 3
   },
   "file_extension": ".py",
   "mimetype": "text/x-python",
   "name": "python",
   "nbconvert_exporter": "python",
   "pygments_lexer": "ipython3",
   "version": "3.7.1"
  },
  "widgets": {
   "state": {
    "18cec8c8b3094a77970b97e32fe5ee51": {
     "views": [
      {
       "cell_index": 6
      },
      {
       "cell_index": 7
      },
      {
       "cell_index": 8
      }
     ]
    },
    "fa4df35798b24d2fa8a0f6a715ad6425": {
     "views": []
    }
   },
   "version": "1.1.1"
  }
 },
 "nbformat": 4,
 "nbformat_minor": 1
}
