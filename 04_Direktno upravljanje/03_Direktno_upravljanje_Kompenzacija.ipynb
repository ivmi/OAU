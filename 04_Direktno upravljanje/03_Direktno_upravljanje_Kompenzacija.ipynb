{
 "cells": [
  {
   "cell_type": "markdown",
   "metadata": {},
   "source": [
    "## Direktni sustav upravljanja - kompenzacija poremećaja\n",
    "## Simulacija"
   ]
  },
  {
   "cell_type": "code",
   "execution_count": 14,
   "metadata": {},
   "outputs": [],
   "source": [
    "%matplotlib widget\n",
    "import sys, os\n",
    "sys.path.append(os.path.dirname(os.getcwd()))\n",
    "import matplotlib.pyplot as plt\n",
    "import lib.simulator as sim"
   ]
  },
  {
   "cell_type": "code",
   "execution_count": 15,
   "metadata": {},
   "outputs": [],
   "source": [
    "# model procesa\n",
    "def spremnik_topline(k_h, k_g, C_s):\n",
    "    A = [-k_g/C_s]\n",
    "    B = [k_h/C_s, k_g/C_s]\n",
    "    C = [1]\n",
    "    D = [0, 0]\n",
    "    return A, B, C, D"
   ]
  },
  {
   "cell_type": "code",
   "execution_count": 16,
   "metadata": {},
   "outputs": [],
   "source": [
    "# prijenosna funkcija kompenzatora\n",
    "C_s = 1\n",
    "k_g = 0.4\n",
    "k_h = 0.8\n",
    "Gcomp = sim.gain(-k_g/k_h)"
   ]
  },
  {
   "cell_type": "code",
   "execution_count": 17,
   "metadata": {},
   "outputs": [],
   "source": [
    "# model cjelokupnog sustava\n",
    "\n",
    "blocks = [\n",
    "    sim.step(y0=0, y1=1, t_step=1),  #0\n",
    "    sim.step(y0=0, y1=1, t_step=15), #1\n",
    "    Gcomp,\n",
    "    sim.suma('++'), #3\n",
    "    sim.ss(*spremnik_topline(k_h=0.8, k_g=0.4, C_s=1),   # parametri spremnika\n",
    "           [0.0])                                        # početni uvjeti (početna temperatura)\n",
    "    ]\n",
    "\n",
    "connections = [\n",
    "    ((0, 0), (3, 0)),\n",
    "    ((1, 0), (4, 1)),\n",
    "    ((1, 0), (2, 0)),    \n",
    "    ((2, 0), (3, 1)),    \n",
    "    ((3, 0), (4, 0)),    \n",
    "    \n",
    "]\n",
    "\n",
    "outputs = [0, 1, 3, 4]\n",
    "\n",
    "t, y = sim.simulate(blocks, connections, outputs, t_final=30.0)"
   ]
  },
  {
   "cell_type": "code",
   "execution_count": 18,
   "metadata": {
    "scrolled": false
   },
   "outputs": [
    {
     "data": {
      "application/vnd.jupyter.widget-view+json": {
       "model_id": "9e35b3a1b64a4b588b06fa1b82cb4216",
       "version_major": 2,
       "version_minor": 0
      },
      "text/plain": [
       "Canvas(toolbar=Toolbar(toolitems=[('Home', 'Reset original view', 'home', 'home'), ('Back', 'Back to previous …"
      ]
     },
     "metadata": {},
     "output_type": "display_data"
    }
   ],
   "source": [
    "# vremenski odziv\n",
    "fig = plt.figure()\n",
    "fig.set_label('Odziv procesa')\n",
    "ax1=plt.subplot(2, 1, 1)\n",
    "plt.plot(t, y[:,1], t, y[:,3])\n",
    "plt.grid()\n",
    "plt.legend(['Vanjska temperatura', 'Temperatura spremnika'])\n",
    "ax2=plt.subplot(2, 1, 2)\n",
    "plt.plot(t, y[:,0], t, y[:,2])\n",
    "plt.grid()\n",
    "plt.legend(['Ulaz', 'Grijač'])\n",
    "plt.show()"
   ]
  },
  {
   "cell_type": "code",
   "execution_count": null,
   "metadata": {},
   "outputs": [],
   "source": []
  },
  {
   "cell_type": "code",
   "execution_count": null,
   "metadata": {},
   "outputs": [],
   "source": []
  }
 ],
 "metadata": {
  "kernelspec": {
   "display_name": "Python 3",
   "language": "python",
   "name": "python3"
  },
  "language_info": {
   "codemirror_mode": {
    "name": "ipython",
    "version": 3
   },
   "file_extension": ".py",
   "mimetype": "text/x-python",
   "name": "python",
   "nbconvert_exporter": "python",
   "pygments_lexer": "ipython3",
   "version": "3.7.1"
  }
 },
 "nbformat": 4,
 "nbformat_minor": 2
}
